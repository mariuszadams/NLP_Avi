{
 "cells": [
  {
   "cell_type": "markdown",
   "metadata": {},
   "source": [
    "#### NLP Workshops with AVIVA\n",
    "#### Dzień 3\n",
    "#### Feature Engineering and Text Representation - Financial Sentiment Analysis\n",
    "#### część 2. "
   ]
  },
  {
   "cell_type": "markdown",
   "metadata": {},
   "source": [
    "Notebook przedstawia funkcje, które wykonują word embedding tekstu oraz dodają nowe cechy do zbioru danych. Jest to kolejny krok przygotowania danych do zadania predykcji sentymentu."
   ]
  },
  {
   "cell_type": "markdown",
   "metadata": {},
   "source": [
    "### Załadowanie bibliotek"
   ]
  },
  {
   "cell_type": "code",
   "execution_count": 89,
   "metadata": {},
   "outputs": [],
   "source": [
    "import spacy\n",
    "import pandas as pd\n",
    "import re\n",
    "import matplotlib.pyplot as plt\n",
    "import gensim.models as gensim_models\n",
    "import numpy as np"
   ]
  },
  {
   "cell_type": "code",
   "execution_count": 90,
   "metadata": {},
   "outputs": [],
   "source": [
    "import warnings\n",
    "\n",
    "warnings.filterwarnings(\"ignore\")"
   ]
  },
  {
   "cell_type": "markdown",
   "metadata": {},
   "source": [
    "### Wczytanie danych "
   ]
  },
  {
   "cell_type": "markdown",
   "metadata": {},
   "source": [
    "Dane są outputem z poprzednich zajęć (Text Preprocessing) i zawierają kolumnę \"PreprocessedSentence\" z wyczyszczonym tekstem z kolumny \"Sentence\"."
   ]
  },
  {
   "cell_type": "code",
   "execution_count": 91,
   "metadata": {},
   "outputs": [
    {
     "data": {
      "text/html": [
       "<div>\n",
       "<style scoped>\n",
       "    .dataframe tbody tr th:only-of-type {\n",
       "        vertical-align: middle;\n",
       "    }\n",
       "\n",
       "    .dataframe tbody tr th {\n",
       "        vertical-align: top;\n",
       "    }\n",
       "\n",
       "    .dataframe thead th {\n",
       "        text-align: right;\n",
       "    }\n",
       "</style>\n",
       "<table border=\"1\" class=\"dataframe\">\n",
       "  <thead>\n",
       "    <tr style=\"text-align: right;\">\n",
       "      <th></th>\n",
       "      <th>Sentence</th>\n",
       "      <th>PreprocessedSentence</th>\n",
       "      <th>Sentiment</th>\n",
       "    </tr>\n",
       "  </thead>\n",
       "  <tbody>\n",
       "    <tr>\n",
       "      <th>0</th>\n",
       "      <td>The GeoSolutions technology will leverage Bene...</td>\n",
       "      <td>geosolution technology leverage benefon gps so...</td>\n",
       "      <td>positive</td>\n",
       "    </tr>\n",
       "    <tr>\n",
       "      <th>1</th>\n",
       "      <td>$ESI on lows, down $1.50 to $2.50 BK a real po...</td>\n",
       "      <td>esi low down to bk real possibility</td>\n",
       "      <td>negative</td>\n",
       "    </tr>\n",
       "    <tr>\n",
       "      <th>2</th>\n",
       "      <td>For the last quarter of 2010 , Componenta 's n...</td>\n",
       "      <td>for last quarter of componenta net sale double...</td>\n",
       "      <td>positive</td>\n",
       "    </tr>\n",
       "    <tr>\n",
       "      <th>3</th>\n",
       "      <td>According to the Finnish-Russian Chamber of Co...</td>\n",
       "      <td>accord to finnishrussian chamber of commerce a...</td>\n",
       "      <td>neutral</td>\n",
       "    </tr>\n",
       "    <tr>\n",
       "      <th>4</th>\n",
       "      <td>The Swedish buyout firm has sold its remaining...</td>\n",
       "      <td>swedish buyout firm have sell its remain perce...</td>\n",
       "      <td>neutral</td>\n",
       "    </tr>\n",
       "    <tr>\n",
       "      <th>...</th>\n",
       "      <td>...</td>\n",
       "      <td>...</td>\n",
       "      <td>...</td>\n",
       "    </tr>\n",
       "    <tr>\n",
       "      <th>5650</th>\n",
       "      <td>RISING costs have forced packaging producer Hu...</td>\n",
       "      <td>rise cost have force packaging producer huhtam...</td>\n",
       "      <td>negative</td>\n",
       "    </tr>\n",
       "    <tr>\n",
       "      <th>5651</th>\n",
       "      <td>Nordic Walking was first used as a summer trai...</td>\n",
       "      <td>nordic walking be first use as summer training...</td>\n",
       "      <td>neutral</td>\n",
       "    </tr>\n",
       "    <tr>\n",
       "      <th>5652</th>\n",
       "      <td>According shipping company Viking Line , the E...</td>\n",
       "      <td>accord ship company vike line eu decision have...</td>\n",
       "      <td>neutral</td>\n",
       "    </tr>\n",
       "    <tr>\n",
       "      <th>5653</th>\n",
       "      <td>In the building and home improvement trade , s...</td>\n",
       "      <td>building home improvement trade sale decrease ...</td>\n",
       "      <td>neutral</td>\n",
       "    </tr>\n",
       "    <tr>\n",
       "      <th>5654</th>\n",
       "      <td>HELSINKI AFX - KCI Konecranes said it has won ...</td>\n",
       "      <td>helsinki afx kci konecranes say it have win or...</td>\n",
       "      <td>positive</td>\n",
       "    </tr>\n",
       "  </tbody>\n",
       "</table>\n",
       "<p>5655 rows × 3 columns</p>\n",
       "</div>"
      ],
      "text/plain": [
       "                                               Sentence  \\\n",
       "0     The GeoSolutions technology will leverage Bene...   \n",
       "1     $ESI on lows, down $1.50 to $2.50 BK a real po...   \n",
       "2     For the last quarter of 2010 , Componenta 's n...   \n",
       "3     According to the Finnish-Russian Chamber of Co...   \n",
       "4     The Swedish buyout firm has sold its remaining...   \n",
       "...                                                 ...   \n",
       "5650  RISING costs have forced packaging producer Hu...   \n",
       "5651  Nordic Walking was first used as a summer trai...   \n",
       "5652  According shipping company Viking Line , the E...   \n",
       "5653  In the building and home improvement trade , s...   \n",
       "5654  HELSINKI AFX - KCI Konecranes said it has won ...   \n",
       "\n",
       "                                   PreprocessedSentence Sentiment  \n",
       "0     geosolution technology leverage benefon gps so...  positive  \n",
       "1                   esi low down to bk real possibility  negative  \n",
       "2     for last quarter of componenta net sale double...  positive  \n",
       "3     accord to finnishrussian chamber of commerce a...   neutral  \n",
       "4     swedish buyout firm have sell its remain perce...   neutral  \n",
       "...                                                 ...       ...  \n",
       "5650  rise cost have force packaging producer huhtam...  negative  \n",
       "5651  nordic walking be first use as summer training...   neutral  \n",
       "5652  accord ship company vike line eu decision have...   neutral  \n",
       "5653  building home improvement trade sale decrease ...   neutral  \n",
       "5654  helsinki afx kci konecranes say it have win or...  positive  \n",
       "\n",
       "[5655 rows x 3 columns]"
      ]
     },
     "execution_count": 91,
     "metadata": {},
     "output_type": "execute_result"
    }
   ],
   "source": [
    "data_cleaned = pd.read_csv(\n",
    "    r\"data/FinancialNewsPreprocessed.csv\", index_col=0\n",
    ").reset_index(drop=True)\n",
    "data_cleaned"
   ]
  },
  {
   "cell_type": "markdown",
   "metadata": {},
   "source": [
    "## Word embedding"
   ]
  },
  {
   "cell_type": "markdown",
   "metadata": {},
   "source": [
    "### Word embedding (metodą word2vec)"
   ]
  },
  {
   "cell_type": "markdown",
   "metadata": {},
   "source": [
    "Zamierzamy wytrenować nasz model (za pomocą word2vec z biblioteki gensim), a następnie użyć modelu do przedstawienie wyczyszczonego tekstu (\"PreprocessedSentence\") za pomocą wektora numerycznego."
   ]
  },
  {
   "cell_type": "code",
   "execution_count": 92,
   "metadata": {},
   "outputs": [
    {
     "data": {
      "text/plain": [
       "0       geosolution technology leverage benefon gps so...\n",
       "1                     esi low down to bk real possibility\n",
       "2       for last quarter of componenta net sale double...\n",
       "3       accord to finnishrussian chamber of commerce a...\n",
       "4       swedish buyout firm have sell its remain perce...\n",
       "                              ...                        \n",
       "5650    rise cost have force packaging producer huhtam...\n",
       "5651    nordic walking be first use as summer training...\n",
       "5652    accord ship company vike line eu decision have...\n",
       "5653    building home improvement trade sale decrease ...\n",
       "5654    helsinki afx kci konecranes say it have win or...\n",
       "Name: PreprocessedSentence, Length: 5655, dtype: object"
      ]
     },
     "execution_count": 92,
     "metadata": {},
     "output_type": "execute_result"
    }
   ],
   "source": [
    "data_cleaned[\"PreprocessedSentence\"]"
   ]
  },
  {
   "cell_type": "markdown",
   "metadata": {},
   "source": [
    "#### Trening modelu word2vec"
   ]
  },
  {
   "cell_type": "code",
   "execution_count": 93,
   "metadata": {},
   "outputs": [],
   "source": [
    "def train_word2vec_model(\n",
    "    data: pd.DataFrame, text_column: str\n",
    ") -> gensim_models.word2vec.Word2Vec:\n",
    "    \"\"\"\n",
    "    Train Word2Vec model using give text columns\n",
    "    :param data: Pandas DataFrame containing input data with text_column\n",
    "    :param text_columns: name of column containing text\n",
    "    :param nlp: spacy model\n",
    "    :return: Word2Vec model\n",
    "    \"\"\"\n",
    "    list_of_token_vectors = list(\n",
    "        data[text_column].apply(lambda txt: txt.lower().split())\n",
    "    )\n",
    "\n",
    "    model = gensim_models.word2vec.Word2Vec(\n",
    "        list_of_token_vectors, vector_size=100, window=1, min_count=2\n",
    "    )\n",
    "\n",
    "    return model"
   ]
  },
  {
   "cell_type": "code",
   "execution_count": 94,
   "metadata": {},
   "outputs": [
    {
     "data": {
      "text/plain": [
       "<gensim.models.word2vec.Word2Vec at 0x28a04b15550>"
      ]
     },
     "execution_count": 94,
     "metadata": {},
     "output_type": "execute_result"
    }
   ],
   "source": [
    "train_word2vec_model(data_cleaned, \"PreprocessedSentence\")"
   ]
  },
  {
   "cell_type": "markdown",
   "metadata": {},
   "source": [
    "#### Word embedding kolumny \"PreprocessedSentence\""
   ]
  },
  {
   "cell_type": "markdown",
   "metadata": {},
   "source": [
    "Word embedding kolumny \"PreprocessedSentence\" wykonamy za pomocą dwóch funkcji.\n",
    "Pierwsza z nich będzie wykonywać word embedding dla pojedynczego tekstu. \n",
    "Druga zaplikuję tę funkcję do każdego tekstu z procesowanej kolumny."
   ]
  },
  {
   "cell_type": "code",
   "execution_count": 95,
   "metadata": {},
   "outputs": [],
   "source": [
    "def word2vec_sentence_embedding_vector(\n",
    "    model: gensim_models.word2vec.Word2Vec, text: str\n",
    ") -> list:\n",
    "    \"\"\"\n",
    "    Creates list of 1-dimensional numerical representation of words from text by calculating\n",
    "    word embedding vectors.\n",
    "    :param model: Word2Vec model\n",
    "    :param text: input text\n",
    "    :return: list of numpy arrays with numerical representation of words\n",
    "    \"\"\"\n",
    "\n",
    "    index2word_set = set(model.wv.index_to_key)\n",
    "\n",
    "    embedded_word_vectors = [\n",
    "        model.wv[word.lower()] for word in text.split() if word in index2word_set\n",
    "    ]\n",
    "\n",
    "    return embedded_word_vectors"
   ]
  },
  {
   "cell_type": "code",
   "execution_count": 96,
   "metadata": {},
   "outputs": [
    {
     "data": {
      "text/plain": [
       "[array([-0.36853015,  0.35236382, -0.0724097 ,  0.01204012, -0.02667789,\n",
       "        -0.24691464,  0.15340768,  0.6933577 , -0.25816983, -0.24216652,\n",
       "         0.02614757, -0.48587984, -0.01975334,  0.04084392,  0.04351875,\n",
       "        -0.21686982,  0.3848936 , -0.38704795, -0.22602431, -0.44756642,\n",
       "         0.07878502,  0.13342278,  0.3953795 ,  0.03466317, -0.13978332,\n",
       "        -0.04846992, -0.13400269, -0.31860745, -0.10336342, -0.04070421,\n",
       "         0.4256403 , -0.16600919,  0.17655034, -0.19317403, -0.06572178,\n",
       "         0.47617248,  0.26006067, -0.15104195, -0.18767092, -0.43074057,\n",
       "         0.21480359, -0.33228296, -0.17507267, -0.04259763,  0.30268082,\n",
       "        -0.14045128, -0.05927179, -0.17729037,  0.05497475,  0.08691311,\n",
       "         0.10246079, -0.06143516, -0.07158373, -0.02583752, -0.15520778,\n",
       "        -0.08180055,  0.22536427, -0.0487101 , -0.27364552, -0.21587445,\n",
       "         0.18379416,  0.21853022,  0.13308632, -0.25025937, -0.25916368,\n",
       "         0.09429803,  0.18020955,  0.38986075, -0.5143077 ,  0.35750115,\n",
       "         0.03302712,  0.03708781,  0.32325873,  0.21758832,  0.3584002 ,\n",
       "         0.07306973, -0.25088575,  0.09098216, -0.38398203,  0.02387708,\n",
       "        -0.23287344, -0.2051074 , -0.08373806,  0.36287564,  0.00700188,\n",
       "        -0.06786771,  0.15983187,  0.18624008,  0.06830587,  0.02582527,\n",
       "         0.32914966,  0.09399993,  0.14910275, -0.15039192,  0.4698246 ,\n",
       "         0.19623873,  0.09021937, -0.18982063, -0.0414004 , -0.0782024 ],\n",
       "       dtype=float32),\n",
       " array([-0.46623203,  0.4859704 , -0.09717953,  0.21400934,  0.03749987,\n",
       "        -0.36260125,  0.27170005,  0.73406714, -0.2442175 , -0.1400338 ,\n",
       "        -0.14494105, -0.49068332, -0.01803209,  0.12937894, -0.11154515,\n",
       "        -0.18583462,  0.5564977 , -0.35411525, -0.29526713, -0.7013019 ,\n",
       "         0.17359737,  0.09352759,  0.5225595 ,  0.12899381, -0.10126998,\n",
       "        -0.10246897, -0.24038196, -0.3135099 , -0.15534346,  0.16211055,\n",
       "         0.82535255, -0.11976159,  0.42957932, -0.53631383, -0.22660811,\n",
       "         0.5329555 ,  0.41853765, -0.23985036, -0.20971839, -0.52360034,\n",
       "         0.1252872 , -0.3056877 , -0.08440186, -0.2956874 ,  0.38232484,\n",
       "        -0.19265473, -0.13568893, -0.35533684,  0.22508551,  0.17336756,\n",
       "         0.1036526 , -0.280018  , -0.25005278, -0.10479809, -0.1614355 ,\n",
       "        -0.06279732,  0.34027308, -0.12210985, -0.3039957 , -0.04994117,\n",
       "         0.16762671,  0.05011486,  0.34946677, -0.21009359, -0.46712962,\n",
       "         0.09807266,  0.13034697,  0.37464622, -0.5510898 ,  0.46641567,\n",
       "         0.03649939,  0.02914702,  0.50825715,  0.36646655,  0.37733275,\n",
       "        -0.12305929, -0.31064236,  0.0880605 , -0.645313  ,  0.17923017,\n",
       "        -0.19832054, -0.22464786, -0.20308371,  0.6288171 , -0.15526487,\n",
       "        -0.3101611 ,  0.2892216 ,  0.25239477,  0.08307483,  0.01794155,\n",
       "         0.38898757,  0.1536029 ,  0.13242804, -0.30670646,  0.5514547 ,\n",
       "         0.15129916,  0.1041797 , -0.34794143,  0.08118495,  0.06187589],\n",
       "       dtype=float32),\n",
       " array([-5.95604897e-01,  4.13117856e-01,  4.06410843e-02,  1.30890880e-03,\n",
       "         1.17766507e-01, -4.99379277e-01,  9.04037431e-02,  8.76473784e-01,\n",
       "        -1.79354683e-01, -3.02918822e-01, -1.71779618e-01, -5.44242501e-01,\n",
       "        -2.63479352e-01, -8.41898099e-02,  6.01872802e-02, -2.82412142e-01,\n",
       "         4.90290850e-01, -3.48820627e-01, -2.23653898e-01, -7.05676377e-01,\n",
       "         1.11256614e-01,  2.01074928e-01,  5.76761067e-01,  1.45049781e-01,\n",
       "        -1.50127932e-02,  1.64713398e-01, -3.85922283e-01, -1.75056815e-01,\n",
       "        -2.05457196e-01,  2.12955818e-01,  6.18283451e-01, -1.14947729e-01,\n",
       "         3.34821463e-01, -4.45174903e-01, -2.43163526e-01,  3.81403387e-01,\n",
       "         1.43386215e-01, -2.38170981e-01, -1.17722362e-01, -4.95363414e-01,\n",
       "         1.51747867e-01, -3.67821604e-01, -1.94536552e-01, -1.17404588e-01,\n",
       "         1.90022439e-01, -3.47005934e-01,  9.27516911e-03, -3.08714986e-01,\n",
       "         2.17947885e-01,  2.10957214e-01,  2.04117611e-01, -2.81725675e-01,\n",
       "        -1.52109727e-01, -9.47683007e-02, -2.18286887e-01, -4.33022082e-02,\n",
       "         3.52599233e-01, -7.38187507e-02, -1.29848689e-01, -1.29417786e-02,\n",
       "         7.05727339e-02,  1.87449396e-01,  3.59921753e-01, -2.02147245e-01,\n",
       "        -3.13512743e-01,  2.13011399e-01,  3.38239551e-01,  4.28965598e-01,\n",
       "        -6.31567061e-01,  3.83055300e-01,  2.56031193e-03,  1.79329097e-01,\n",
       "         4.53180045e-01,  2.39562869e-01,  5.01967847e-01,  1.67685896e-04,\n",
       "        -2.52972692e-01,  5.65324025e-03, -5.07714331e-01,  7.16793761e-02,\n",
       "        -3.45177412e-01, -3.74093056e-02, -1.31458446e-01,  6.17774844e-01,\n",
       "        -5.59265874e-02, -2.49068514e-01,  3.38263661e-01,  2.86910474e-01,\n",
       "         5.08587323e-02,  4.48203385e-02,  5.29256701e-01,  1.41850814e-01,\n",
       "         2.54155904e-01, -3.10881704e-01,  5.87478817e-01,  2.46845201e-01,\n",
       "         2.69590229e-01, -1.99604273e-01, -5.47305681e-02,  6.16126172e-02],\n",
       "       dtype=float32),\n",
       " array([-5.30533157e-02,  6.63739741e-02,  4.10333723e-02,  4.78549972e-02,\n",
       "         7.02198595e-02, -1.65227309e-01,  6.60800710e-02,  2.86819577e-01,\n",
       "        -1.01163112e-01, -5.91096655e-02, -6.93596154e-02, -1.95257306e-01,\n",
       "        -4.25307229e-02,  2.02710610e-02,  2.65702978e-02, -8.66853520e-02,\n",
       "         7.64746740e-02, -7.77025223e-02, -2.89909374e-02, -2.52034992e-01,\n",
       "         6.22362457e-02,  3.29262540e-02,  8.67490396e-02, -4.37808894e-02,\n",
       "         2.28148326e-03,  2.41381917e-04, -7.08242580e-02, -3.06887366e-02,\n",
       "        -7.53753930e-02,  2.29881182e-02,  8.98466036e-02, -3.41874994e-02,\n",
       "         6.40982166e-02, -1.20603114e-01, -6.81490749e-02,  1.53019249e-01,\n",
       "        -1.18819010e-02, -9.66049880e-02, -1.04274727e-01, -1.59241974e-01,\n",
       "         2.22084336e-02, -1.55626908e-01, -7.54261911e-02,  4.63259779e-02,\n",
       "         8.16435218e-02, -1.18831489e-02, -1.03286929e-01, -3.32665853e-02,\n",
       "         7.33880326e-02,  8.55104849e-02,  3.94606404e-02, -1.39469936e-01,\n",
       "        -3.44628952e-02, -1.12666460e-02, -9.36568901e-02,  6.95258602e-02,\n",
       "         8.54436904e-02, -5.31640388e-02, -9.24876779e-02,  3.35952342e-02,\n",
       "        -1.64162531e-03,  3.07504609e-02, -9.26447194e-03, -4.35970686e-02,\n",
       "        -1.40930608e-01,  1.42775118e-01,  4.16570902e-02,  1.26676872e-01,\n",
       "        -1.58335641e-01,  1.59836471e-01, -6.85695335e-02,  7.33129829e-02,\n",
       "         1.55717283e-01, -3.62369381e-02,  1.28039613e-01,  5.55103198e-02,\n",
       "         4.75956164e-02, -1.85550433e-02, -9.24986079e-02,  1.76112298e-02,\n",
       "        -1.14282802e-01, -3.38595398e-02, -1.07536219e-01,  1.28257751e-01,\n",
       "        -2.58300602e-02, -3.01330462e-02,  7.07625644e-04,  8.34135264e-02,\n",
       "         1.33374766e-01,  2.19014119e-02,  1.17434651e-01,  4.72150594e-02,\n",
       "         3.27469371e-02, -1.01192063e-02,  1.90529719e-01,  1.21048756e-01,\n",
       "         8.42131153e-02, -1.40931651e-01, -5.71048113e-05,  1.14896428e-02],\n",
       "       dtype=float32),\n",
       " array([-0.39052352,  0.42447352,  0.08583521,  0.14260215,  0.1802295 ,\n",
       "        -0.5202986 ,  0.20006655,  0.923339  , -0.30214053, -0.25453714,\n",
       "        -0.14257097, -0.5756147 , -0.10860031,  0.00923339,  0.13443889,\n",
       "        -0.28561407,  0.3475137 , -0.35920542, -0.20631377, -0.7766574 ,\n",
       "         0.1217472 ,  0.13945693,  0.43358192, -0.05460948, -0.09855551,\n",
       "         0.00945236, -0.2578257 , -0.17874297, -0.19346774,  0.12245727,\n",
       "         0.4281979 , -0.17538989,  0.22407183, -0.40344697, -0.1844995 ,\n",
       "         0.5227928 ,  0.13978697, -0.27560136, -0.27079803, -0.51205426,\n",
       "         0.17369908, -0.4973791 , -0.1804909 ,  0.03540272,  0.26700696,\n",
       "        -0.1288392 , -0.15184228, -0.20324844,  0.18954559,  0.1872999 ,\n",
       "         0.17391568, -0.35253528, -0.12577686, -0.0674134 , -0.33138016,\n",
       "         0.1165872 ,  0.35349777, -0.09836769, -0.24213134, -0.05599481,\n",
       "         0.08219006,  0.18045667,  0.10135719, -0.2122413 , -0.3741861 ,\n",
       "         0.34052247,  0.20823404,  0.4730431 , -0.60863876,  0.41161147,\n",
       "        -0.15459785,  0.160548  ,  0.51086396,  0.1324709 ,  0.4128665 ,\n",
       "         0.10111382, -0.08726382,  0.06699979, -0.40530396,  0.0930727 ,\n",
       "        -0.30735403, -0.11831798, -0.19185524,  0.4330442 , -0.02337158,\n",
       "        -0.1605026 ,  0.08552597,  0.25883308,  0.30988324,  0.07789847,\n",
       "         0.44405034,  0.1297598 ,  0.10454673, -0.09257068,  0.6560678 ,\n",
       "         0.3379708 ,  0.24564771, -0.37755528, -0.08150019, -0.03782553],\n",
       "       dtype=float32),\n",
       " array([-3.46903573e-03,  1.74380969e-02,  1.80582807e-03,  1.09352858e-03,\n",
       "         1.41999014e-02, -2.12082192e-02,  1.12625053e-02,  3.14837061e-02,\n",
       "        -2.30355444e-03, -5.32855978e-03, -1.28656635e-02, -1.12878345e-02,\n",
       "         5.11838635e-03,  1.10012619e-02, -4.94126510e-03, -7.07983272e-03,\n",
       "         1.24298327e-03, -2.28670170e-03, -4.68962127e-03, -2.20282655e-02,\n",
       "         1.45895947e-02,  1.34924324e-02,  8.33351689e-04,  2.24636495e-03,\n",
       "         9.21055675e-03,  6.41435443e-04, -9.22179781e-03,  2.04680697e-03,\n",
       "        -1.05863682e-03, -4.75251721e-03, -2.68376869e-04,  2.72546167e-04,\n",
       "         2.29132362e-03, -1.57751478e-02,  1.09885656e-03,  1.38457408e-02,\n",
       "        -1.00676278e-02, -2.61273864e-03, -1.96594391e-02, -1.63781550e-02,\n",
       "        -3.88903450e-03, -2.33884212e-02, -6.27948437e-04,  3.00646317e-03,\n",
       "         1.20861800e-02, -1.11879094e-03, -7.31213251e-03, -2.95374170e-03,\n",
       "         1.13203656e-02,  3.42987292e-03,  2.11485219e-03, -1.13321515e-02,\n",
       "        -4.52067750e-03, -5.84016030e-04, -4.18068562e-03,  1.33457612e-02,\n",
       "        -1.67365966e-03, -1.05182631e-02, -1.27383824e-02,  3.23403685e-04,\n",
       "        -7.72969579e-05,  4.40777373e-03,  7.40476418e-03, -9.01723932e-03,\n",
       "        -1.20518245e-02,  1.97217707e-02,  1.11906044e-02,  3.34905111e-03,\n",
       "        -1.84762534e-02,  2.39322092e-02, -3.05749243e-03, -1.50306954e-03,\n",
       "         2.15172973e-02,  1.43634912e-03,  2.02292036e-02,  3.63345188e-03,\n",
       "        -1.39874592e-03, -5.95071167e-03,  1.29542476e-03,  8.13307520e-03,\n",
       "        -6.81945402e-03, -2.55832146e-03, -8.57952330e-03,  1.24707734e-02,\n",
       "         4.23568347e-03,  6.36962336e-03, -1.04959561e-02,  6.50749169e-03,\n",
       "         1.73229035e-02, -4.27916646e-03,  5.28479274e-03,  1.05324071e-02,\n",
       "         6.03235653e-03,  2.00554309e-03,  1.40653662e-02,  3.48395784e-03,\n",
       "         1.65701266e-02, -6.45541074e-03,  1.31988211e-03, -4.16685315e-03],\n",
       "       dtype=float32)]"
      ]
     },
     "execution_count": 96,
     "metadata": {},
     "output_type": "execute_result"
    }
   ],
   "source": [
    "model = train_word2vec_model(data_cleaned, \"PreprocessedSentence\")\n",
    "sentence = \"greene king third quarter sale boost by festive season\"\n",
    "sentence_embeded = word2vec_sentence_embedding_vector(model, sentence)\n",
    "sentence_embeded"
   ]
  },
  {
   "cell_type": "code",
   "execution_count": 97,
   "metadata": {},
   "outputs": [
    {
     "name": "stdout",
     "output_type": "stream",
     "text": [
      "Number of words in sentence: 9\n",
      "Number of arrays in list of words embeddings: 6\n",
      "Shape of first word embedding: (100,)\n",
      "Shape of second word embedding: (100,)\n"
     ]
    }
   ],
   "source": [
    "print(f\"Number of words in sentence: {len(sentence.split())}\")\n",
    "print(f\"Number of arrays in list of words embeddings: {len(sentence_embeded)}\")\n",
    "print(f\"Shape of first word embedding: {sentence_embeded[0].shape}\")\n",
    "print(f\"Shape of second word embedding: {sentence_embeded[0].shape}\")"
   ]
  },
  {
   "cell_type": "markdown",
   "metadata": {},
   "source": [
    "Zauważmy, że jeśli spróbujemy wykonać tę funkcję dla tekstu zawierającego słowa, którego \n",
    "nie ma w naszym oryginalnym tekście lub występują one rzadko (mniej niż 2 razy), to otrzymamy\n",
    "w rezultacie pustą listę."
   ]
  },
  {
   "cell_type": "code",
   "execution_count": 98,
   "metadata": {},
   "outputs": [
    {
     "data": {
      "text/plain": [
       "[]"
      ]
     },
     "execution_count": 98,
     "metadata": {},
     "output_type": "execute_result"
    }
   ],
   "source": [
    "model = train_word2vec_model(data_cleaned, \"PreprocessedSentence\")\n",
    "sentence = \"ASEC\"\n",
    "sentence_embeded = word2vec_sentence_embedding_vector(model, sentence)\n",
    "sentence_embeded"
   ]
  },
  {
   "cell_type": "code",
   "execution_count": 99,
   "metadata": {},
   "outputs": [],
   "source": [
    "def word2vec_average_sentence_embedding_vector(embedded_word_vectors: list) -> np.array:\n",
    "    \"\"\"\n",
    "    Calculate average of word embedding vectors given by a list.\n",
    "    :param embedded_word_vectors: list of numpy arrays\n",
    "    :return: numpy array with numerical representation of text\n",
    "    \"\"\"\n",
    "\n",
    "    if len(embedded_word_vectors) == 0:\n",
    "        return np.zeros(model.wv.vector_size)\n",
    "\n",
    "    embedded_sentence_vectors = np.mean(embedded_word_vectors, axis=0)\n",
    "\n",
    "    return embedded_sentence_vectors"
   ]
  },
  {
   "cell_type": "code",
   "execution_count": 100,
   "metadata": {},
   "outputs": [
    {
     "data": {
      "text/plain": [
       "array([-3.12512010e-01,  3.00418735e-01,  1.61534909e-03,  6.67325035e-02,\n",
       "        6.52348772e-02, -3.11596066e-01,  1.16229445e-01,  5.98536551e-01,\n",
       "       -1.81272209e-01, -1.67443812e-01, -9.51313376e-02, -3.89733076e-01,\n",
       "       -6.73140660e-02,  3.06157917e-02,  2.86933277e-02, -1.72524646e-01,\n",
       "        3.10577869e-01, -2.56387025e-01, -1.55516252e-01, -4.85069871e-01,\n",
       "        8.92427489e-02,  1.00376435e-01,  3.36894423e-01,  2.51116138e-02,\n",
       "       -5.83893955e-02,  9.39394441e-03, -1.90380499e-01, -1.74240157e-01,\n",
       "       -1.19622953e-01,  8.68519545e-02,  3.88796300e-01, -9.93046686e-02,\n",
       "        2.01567307e-01, -2.91464537e-01, -1.34435579e-01,  3.53736848e-01,\n",
       "        1.56670496e-01, -1.60059527e-01, -1.56833306e-01, -3.53191584e-01,\n",
       "        1.18920110e-01, -2.76067406e-01, -1.13586694e-01, -6.81242719e-02,\n",
       "        2.03628913e-01, -1.30051330e-01, -7.46834725e-02, -1.86736226e-01,\n",
       "        1.35052189e-01,  1.25662699e-01,  1.08709306e-01, -1.79161906e-01,\n",
       "       -1.12701297e-01, -5.46155386e-02, -1.58999965e-01, -2.88570154e-04,\n",
       "        2.31363311e-01, -6.31098300e-02, -1.75464272e-01, -4.88837250e-02,\n",
       "        7.97375217e-02,  1.10994093e-01,  1.51118129e-01, -1.45315692e-01,\n",
       "       -2.63991773e-01,  1.48468778e-01,  1.51408792e-01,  2.87464052e-01,\n",
       "       -4.10676241e-01,  3.03137600e-01, -2.90971920e-02,  7.63458684e-02,\n",
       "        3.26398432e-01,  1.54417053e-01,  3.00347388e-01,  1.81961078e-02,\n",
       "       -1.43792868e-01,  3.47875245e-02, -3.39893132e-01,  6.83086440e-02,\n",
       "       -2.06600010e-01, -1.06110603e-01, -1.18539184e-01,  3.60727042e-01,\n",
       "       -3.91498990e-02, -1.37341425e-01,  1.46083921e-01,  1.80076882e-01,\n",
       "        1.12638265e-01,  3.08168754e-02,  3.10019165e-01,  9.32814851e-02,\n",
       "        1.09136201e-01, -1.38939664e-01,  4.06402320e-01,  1.76122889e-01,\n",
       "        1.34354547e-01, -2.07834944e-01, -3.15802507e-02,  6.50986517e-03],\n",
       "      dtype=float32)"
      ]
     },
     "execution_count": 100,
     "metadata": {},
     "output_type": "execute_result"
    }
   ],
   "source": [
    "model = train_word2vec_model(data_cleaned, \"PreprocessedSentence\")\n",
    "sentence = \"greene king third quarter sale boost by festive season\"\n",
    "sentence_embeded = word2vec_sentence_embedding_vector(model, sentence)\n",
    "average_sentence_embeded = word2vec_average_sentence_embedding_vector(sentence_embeded)\n",
    "average_sentence_embeded"
   ]
  },
  {
   "cell_type": "code",
   "execution_count": 101,
   "metadata": {},
   "outputs": [
    {
     "data": {
      "text/plain": [
       "(100,)"
      ]
     },
     "execution_count": 101,
     "metadata": {},
     "output_type": "execute_result"
    }
   ],
   "source": [
    "average_sentence_embeded.shape"
   ]
  },
  {
   "cell_type": "code",
   "execution_count": 102,
   "metadata": {},
   "outputs": [
    {
     "data": {
      "text/plain": [
       "array([0., 0., 0., 0., 0., 0., 0., 0., 0., 0., 0., 0., 0., 0., 0., 0., 0.,\n",
       "       0., 0., 0., 0., 0., 0., 0., 0., 0., 0., 0., 0., 0., 0., 0., 0., 0.,\n",
       "       0., 0., 0., 0., 0., 0., 0., 0., 0., 0., 0., 0., 0., 0., 0., 0., 0.,\n",
       "       0., 0., 0., 0., 0., 0., 0., 0., 0., 0., 0., 0., 0., 0., 0., 0., 0.,\n",
       "       0., 0., 0., 0., 0., 0., 0., 0., 0., 0., 0., 0., 0., 0., 0., 0., 0.,\n",
       "       0., 0., 0., 0., 0., 0., 0., 0., 0., 0., 0., 0., 0., 0., 0.])"
      ]
     },
     "execution_count": 102,
     "metadata": {},
     "output_type": "execute_result"
    }
   ],
   "source": [
    "model = train_word2vec_model(data_cleaned, \"PreprocessedSentence\")\n",
    "sentence = \"ASEC\"\n",
    "sentence_embeded = word2vec_sentence_embedding_vector(model, sentence)\n",
    "average_sentence_embeded = word2vec_average_sentence_embedding_vector(sentence_embeded)\n",
    "average_sentence_embeded"
   ]
  },
  {
   "cell_type": "code",
   "execution_count": 103,
   "metadata": {},
   "outputs": [
    {
     "data": {
      "text/plain": [
       "(100,)"
      ]
     },
     "execution_count": 103,
     "metadata": {},
     "output_type": "execute_result"
    }
   ],
   "source": [
    "average_sentence_embeded.shape"
   ]
  },
  {
   "cell_type": "code",
   "execution_count": 104,
   "metadata": {},
   "outputs": [],
   "source": [
    "def word2vec_embedding(\n",
    "    data: pd.DataFrame, text_column: str, columns_to_include: list\n",
    ") -> pd.DataFrame:\n",
    "    \"\"\"\n",
    "    Creates numerical representation of text using word2vec method.\n",
    "    :param data: Pandas DataFrame containing input data with text_column\n",
    "    :param text_columns: name of column containing text\n",
    "    :param columns_to_include: list of columns from data\n",
    "    :param nlp: spacy model\n",
    "    :return: Pandas DataFrame containing numeric values representing text\n",
    "    \"\"\"\n",
    "\n",
    "    model = train_word2vec_model(data, text_column)\n",
    "\n",
    "    words_embedding = data[text_column].apply(\n",
    "        lambda x: word2vec_sentence_embedding_vector(model, x)\n",
    "    )\n",
    "\n",
    "    avg_word_embedding = words_embedding.apply(\n",
    "        lambda x: word2vec_average_sentence_embedding_vector(x)\n",
    "    )\n",
    "\n",
    "    avg_word_embedding = pd.DataFrame(list(avg_word_embedding))\n",
    "\n",
    "    avg_word_embedding[columns_to_include] = data[columns_to_include]\n",
    "\n",
    "    return avg_word_embedding"
   ]
  },
  {
   "cell_type": "code",
   "execution_count": 105,
   "metadata": {},
   "outputs": [
    {
     "data": {
      "text/html": [
       "<div>\n",
       "<style scoped>\n",
       "    .dataframe tbody tr th:only-of-type {\n",
       "        vertical-align: middle;\n",
       "    }\n",
       "\n",
       "    .dataframe tbody tr th {\n",
       "        vertical-align: top;\n",
       "    }\n",
       "\n",
       "    .dataframe thead th {\n",
       "        text-align: right;\n",
       "    }\n",
       "</style>\n",
       "<table border=\"1\" class=\"dataframe\">\n",
       "  <thead>\n",
       "    <tr style=\"text-align: right;\">\n",
       "      <th></th>\n",
       "      <th>0</th>\n",
       "      <th>1</th>\n",
       "      <th>2</th>\n",
       "      <th>3</th>\n",
       "      <th>4</th>\n",
       "      <th>5</th>\n",
       "      <th>6</th>\n",
       "      <th>7</th>\n",
       "      <th>8</th>\n",
       "      <th>9</th>\n",
       "      <th>...</th>\n",
       "      <th>93</th>\n",
       "      <th>94</th>\n",
       "      <th>95</th>\n",
       "      <th>96</th>\n",
       "      <th>97</th>\n",
       "      <th>98</th>\n",
       "      <th>99</th>\n",
       "      <th>Sentence</th>\n",
       "      <th>PreprocessedSentence</th>\n",
       "      <th>Sentiment</th>\n",
       "    </tr>\n",
       "  </thead>\n",
       "  <tbody>\n",
       "    <tr>\n",
       "      <th>0</th>\n",
       "      <td>-0.040625</td>\n",
       "      <td>0.087136</td>\n",
       "      <td>0.067266</td>\n",
       "      <td>0.046262</td>\n",
       "      <td>0.078263</td>\n",
       "      <td>-0.243150</td>\n",
       "      <td>0.064683</td>\n",
       "      <td>0.368829</td>\n",
       "      <td>-0.146645</td>\n",
       "      <td>-0.075050</td>\n",
       "      <td>...</td>\n",
       "      <td>0.028611</td>\n",
       "      <td>0.272720</td>\n",
       "      <td>0.164836</td>\n",
       "      <td>0.139689</td>\n",
       "      <td>-0.153502</td>\n",
       "      <td>-0.000126</td>\n",
       "      <td>0.011637</td>\n",
       "      <td>The GeoSolutions technology will leverage Bene...</td>\n",
       "      <td>geosolution technology leverage benefon gps so...</td>\n",
       "      <td>positive</td>\n",
       "    </tr>\n",
       "    <tr>\n",
       "      <th>1</th>\n",
       "      <td>-0.225617</td>\n",
       "      <td>0.261480</td>\n",
       "      <td>0.035816</td>\n",
       "      <td>0.032965</td>\n",
       "      <td>0.072722</td>\n",
       "      <td>-0.280816</td>\n",
       "      <td>0.145685</td>\n",
       "      <td>0.516328</td>\n",
       "      <td>-0.190780</td>\n",
       "      <td>-0.153835</td>\n",
       "      <td>...</td>\n",
       "      <td>-0.046661</td>\n",
       "      <td>0.431484</td>\n",
       "      <td>0.212971</td>\n",
       "      <td>0.169740</td>\n",
       "      <td>-0.158268</td>\n",
       "      <td>-0.019461</td>\n",
       "      <td>-0.078061</td>\n",
       "      <td>$ESI on lows, down $1.50 to $2.50 BK a real po...</td>\n",
       "      <td>esi low down to bk real possibility</td>\n",
       "      <td>negative</td>\n",
       "    </tr>\n",
       "    <tr>\n",
       "      <th>2</th>\n",
       "      <td>-0.364623</td>\n",
       "      <td>0.394738</td>\n",
       "      <td>-0.002986</td>\n",
       "      <td>0.012584</td>\n",
       "      <td>0.086849</td>\n",
       "      <td>-0.420043</td>\n",
       "      <td>0.185253</td>\n",
       "      <td>0.776124</td>\n",
       "      <td>-0.258441</td>\n",
       "      <td>-0.209364</td>\n",
       "      <td>...</td>\n",
       "      <td>-0.123437</td>\n",
       "      <td>0.611906</td>\n",
       "      <td>0.277517</td>\n",
       "      <td>0.227010</td>\n",
       "      <td>-0.212650</td>\n",
       "      <td>-0.027447</td>\n",
       "      <td>-0.071698</td>\n",
       "      <td>For the last quarter of 2010 , Componenta 's n...</td>\n",
       "      <td>for last quarter of componenta net sale double...</td>\n",
       "      <td>positive</td>\n",
       "    </tr>\n",
       "    <tr>\n",
       "      <th>3</th>\n",
       "      <td>-0.163038</td>\n",
       "      <td>0.220772</td>\n",
       "      <td>0.060794</td>\n",
       "      <td>0.052370</td>\n",
       "      <td>0.104624</td>\n",
       "      <td>-0.388309</td>\n",
       "      <td>0.140746</td>\n",
       "      <td>0.653089</td>\n",
       "      <td>-0.247980</td>\n",
       "      <td>-0.151458</td>\n",
       "      <td>...</td>\n",
       "      <td>0.000512</td>\n",
       "      <td>0.506338</td>\n",
       "      <td>0.274160</td>\n",
       "      <td>0.210966</td>\n",
       "      <td>-0.234293</td>\n",
       "      <td>-0.013913</td>\n",
       "      <td>-0.037355</td>\n",
       "      <td>According to the Finnish-Russian Chamber of Co...</td>\n",
       "      <td>accord to finnishrussian chamber of commerce a...</td>\n",
       "      <td>neutral</td>\n",
       "    </tr>\n",
       "    <tr>\n",
       "      <th>4</th>\n",
       "      <td>-0.091347</td>\n",
       "      <td>0.157035</td>\n",
       "      <td>0.095318</td>\n",
       "      <td>0.071013</td>\n",
       "      <td>0.120814</td>\n",
       "      <td>-0.387117</td>\n",
       "      <td>0.114392</td>\n",
       "      <td>0.591992</td>\n",
       "      <td>-0.232593</td>\n",
       "      <td>-0.128197</td>\n",
       "      <td>...</td>\n",
       "      <td>0.034053</td>\n",
       "      <td>0.446582</td>\n",
       "      <td>0.262284</td>\n",
       "      <td>0.222033</td>\n",
       "      <td>-0.230895</td>\n",
       "      <td>-0.003165</td>\n",
       "      <td>0.013724</td>\n",
       "      <td>The Swedish buyout firm has sold its remaining...</td>\n",
       "      <td>swedish buyout firm have sell its remain perce...</td>\n",
       "      <td>neutral</td>\n",
       "    </tr>\n",
       "    <tr>\n",
       "      <th>...</th>\n",
       "      <td>...</td>\n",
       "      <td>...</td>\n",
       "      <td>...</td>\n",
       "      <td>...</td>\n",
       "      <td>...</td>\n",
       "      <td>...</td>\n",
       "      <td>...</td>\n",
       "      <td>...</td>\n",
       "      <td>...</td>\n",
       "      <td>...</td>\n",
       "      <td>...</td>\n",
       "      <td>...</td>\n",
       "      <td>...</td>\n",
       "      <td>...</td>\n",
       "      <td>...</td>\n",
       "      <td>...</td>\n",
       "      <td>...</td>\n",
       "      <td>...</td>\n",
       "      <td>...</td>\n",
       "      <td>...</td>\n",
       "      <td>...</td>\n",
       "    </tr>\n",
       "    <tr>\n",
       "      <th>5650</th>\n",
       "      <td>-0.118664</td>\n",
       "      <td>0.165812</td>\n",
       "      <td>0.076638</td>\n",
       "      <td>0.053511</td>\n",
       "      <td>0.099012</td>\n",
       "      <td>-0.333587</td>\n",
       "      <td>0.109150</td>\n",
       "      <td>0.528949</td>\n",
       "      <td>-0.197014</td>\n",
       "      <td>-0.122734</td>\n",
       "      <td>...</td>\n",
       "      <td>0.009778</td>\n",
       "      <td>0.403491</td>\n",
       "      <td>0.225654</td>\n",
       "      <td>0.186747</td>\n",
       "      <td>-0.195344</td>\n",
       "      <td>-0.005676</td>\n",
       "      <td>-0.007406</td>\n",
       "      <td>RISING costs have forced packaging producer Hu...</td>\n",
       "      <td>rise cost have force packaging producer huhtam...</td>\n",
       "      <td>negative</td>\n",
       "    </tr>\n",
       "    <tr>\n",
       "      <th>5651</th>\n",
       "      <td>-0.114087</td>\n",
       "      <td>0.172601</td>\n",
       "      <td>0.059252</td>\n",
       "      <td>0.030403</td>\n",
       "      <td>0.068985</td>\n",
       "      <td>-0.305074</td>\n",
       "      <td>0.097737</td>\n",
       "      <td>0.506558</td>\n",
       "      <td>-0.201588</td>\n",
       "      <td>-0.130372</td>\n",
       "      <td>...</td>\n",
       "      <td>0.005065</td>\n",
       "      <td>0.384070</td>\n",
       "      <td>0.213688</td>\n",
       "      <td>0.170447</td>\n",
       "      <td>-0.179841</td>\n",
       "      <td>-0.008267</td>\n",
       "      <td>-0.024083</td>\n",
       "      <td>Nordic Walking was first used as a summer trai...</td>\n",
       "      <td>nordic walking be first use as summer training...</td>\n",
       "      <td>neutral</td>\n",
       "    </tr>\n",
       "    <tr>\n",
       "      <th>5652</th>\n",
       "      <td>-0.042611</td>\n",
       "      <td>0.099584</td>\n",
       "      <td>0.093616</td>\n",
       "      <td>0.065170</td>\n",
       "      <td>0.099422</td>\n",
       "      <td>-0.312232</td>\n",
       "      <td>0.089169</td>\n",
       "      <td>0.461148</td>\n",
       "      <td>-0.186181</td>\n",
       "      <td>-0.098571</td>\n",
       "      <td>...</td>\n",
       "      <td>0.046399</td>\n",
       "      <td>0.345441</td>\n",
       "      <td>0.212847</td>\n",
       "      <td>0.181333</td>\n",
       "      <td>-0.196751</td>\n",
       "      <td>0.000755</td>\n",
       "      <td>0.014100</td>\n",
       "      <td>According shipping company Viking Line , the E...</td>\n",
       "      <td>accord ship company vike line eu decision have...</td>\n",
       "      <td>neutral</td>\n",
       "    </tr>\n",
       "    <tr>\n",
       "      <th>5653</th>\n",
       "      <td>-0.413698</td>\n",
       "      <td>0.434699</td>\n",
       "      <td>0.023922</td>\n",
       "      <td>0.018454</td>\n",
       "      <td>0.100514</td>\n",
       "      <td>-0.442569</td>\n",
       "      <td>0.216733</td>\n",
       "      <td>0.793723</td>\n",
       "      <td>-0.267894</td>\n",
       "      <td>-0.235164</td>\n",
       "      <td>...</td>\n",
       "      <td>-0.123209</td>\n",
       "      <td>0.660712</td>\n",
       "      <td>0.304700</td>\n",
       "      <td>0.261699</td>\n",
       "      <td>-0.223767</td>\n",
       "      <td>-0.024530</td>\n",
       "      <td>-0.111795</td>\n",
       "      <td>In the building and home improvement trade , s...</td>\n",
       "      <td>building home improvement trade sale decrease ...</td>\n",
       "      <td>neutral</td>\n",
       "    </tr>\n",
       "    <tr>\n",
       "      <th>5654</th>\n",
       "      <td>-0.071592</td>\n",
       "      <td>0.127774</td>\n",
       "      <td>0.084961</td>\n",
       "      <td>0.054590</td>\n",
       "      <td>0.097217</td>\n",
       "      <td>-0.310665</td>\n",
       "      <td>0.095576</td>\n",
       "      <td>0.483239</td>\n",
       "      <td>-0.181693</td>\n",
       "      <td>-0.110257</td>\n",
       "      <td>...</td>\n",
       "      <td>0.030894</td>\n",
       "      <td>0.360539</td>\n",
       "      <td>0.213314</td>\n",
       "      <td>0.171306</td>\n",
       "      <td>-0.184812</td>\n",
       "      <td>0.001197</td>\n",
       "      <td>0.007907</td>\n",
       "      <td>HELSINKI AFX - KCI Konecranes said it has won ...</td>\n",
       "      <td>helsinki afx kci konecranes say it have win or...</td>\n",
       "      <td>positive</td>\n",
       "    </tr>\n",
       "  </tbody>\n",
       "</table>\n",
       "<p>5655 rows × 103 columns</p>\n",
       "</div>"
      ],
      "text/plain": [
       "             0         1         2         3         4         5         6  \\\n",
       "0    -0.040625  0.087136  0.067266  0.046262  0.078263 -0.243150  0.064683   \n",
       "1    -0.225617  0.261480  0.035816  0.032965  0.072722 -0.280816  0.145685   \n",
       "2    -0.364623  0.394738 -0.002986  0.012584  0.086849 -0.420043  0.185253   \n",
       "3    -0.163038  0.220772  0.060794  0.052370  0.104624 -0.388309  0.140746   \n",
       "4    -0.091347  0.157035  0.095318  0.071013  0.120814 -0.387117  0.114392   \n",
       "...        ...       ...       ...       ...       ...       ...       ...   \n",
       "5650 -0.118664  0.165812  0.076638  0.053511  0.099012 -0.333587  0.109150   \n",
       "5651 -0.114087  0.172601  0.059252  0.030403  0.068985 -0.305074  0.097737   \n",
       "5652 -0.042611  0.099584  0.093616  0.065170  0.099422 -0.312232  0.089169   \n",
       "5653 -0.413698  0.434699  0.023922  0.018454  0.100514 -0.442569  0.216733   \n",
       "5654 -0.071592  0.127774  0.084961  0.054590  0.097217 -0.310665  0.095576   \n",
       "\n",
       "             7         8         9  ...        93        94        95  \\\n",
       "0     0.368829 -0.146645 -0.075050  ...  0.028611  0.272720  0.164836   \n",
       "1     0.516328 -0.190780 -0.153835  ... -0.046661  0.431484  0.212971   \n",
       "2     0.776124 -0.258441 -0.209364  ... -0.123437  0.611906  0.277517   \n",
       "3     0.653089 -0.247980 -0.151458  ...  0.000512  0.506338  0.274160   \n",
       "4     0.591992 -0.232593 -0.128197  ...  0.034053  0.446582  0.262284   \n",
       "...        ...       ...       ...  ...       ...       ...       ...   \n",
       "5650  0.528949 -0.197014 -0.122734  ...  0.009778  0.403491  0.225654   \n",
       "5651  0.506558 -0.201588 -0.130372  ...  0.005065  0.384070  0.213688   \n",
       "5652  0.461148 -0.186181 -0.098571  ...  0.046399  0.345441  0.212847   \n",
       "5653  0.793723 -0.267894 -0.235164  ... -0.123209  0.660712  0.304700   \n",
       "5654  0.483239 -0.181693 -0.110257  ...  0.030894  0.360539  0.213314   \n",
       "\n",
       "            96        97        98        99  \\\n",
       "0     0.139689 -0.153502 -0.000126  0.011637   \n",
       "1     0.169740 -0.158268 -0.019461 -0.078061   \n",
       "2     0.227010 -0.212650 -0.027447 -0.071698   \n",
       "3     0.210966 -0.234293 -0.013913 -0.037355   \n",
       "4     0.222033 -0.230895 -0.003165  0.013724   \n",
       "...        ...       ...       ...       ...   \n",
       "5650  0.186747 -0.195344 -0.005676 -0.007406   \n",
       "5651  0.170447 -0.179841 -0.008267 -0.024083   \n",
       "5652  0.181333 -0.196751  0.000755  0.014100   \n",
       "5653  0.261699 -0.223767 -0.024530 -0.111795   \n",
       "5654  0.171306 -0.184812  0.001197  0.007907   \n",
       "\n",
       "                                               Sentence  \\\n",
       "0     The GeoSolutions technology will leverage Bene...   \n",
       "1     $ESI on lows, down $1.50 to $2.50 BK a real po...   \n",
       "2     For the last quarter of 2010 , Componenta 's n...   \n",
       "3     According to the Finnish-Russian Chamber of Co...   \n",
       "4     The Swedish buyout firm has sold its remaining...   \n",
       "...                                                 ...   \n",
       "5650  RISING costs have forced packaging producer Hu...   \n",
       "5651  Nordic Walking was first used as a summer trai...   \n",
       "5652  According shipping company Viking Line , the E...   \n",
       "5653  In the building and home improvement trade , s...   \n",
       "5654  HELSINKI AFX - KCI Konecranes said it has won ...   \n",
       "\n",
       "                                   PreprocessedSentence  Sentiment  \n",
       "0     geosolution technology leverage benefon gps so...   positive  \n",
       "1                   esi low down to bk real possibility   negative  \n",
       "2     for last quarter of componenta net sale double...   positive  \n",
       "3     accord to finnishrussian chamber of commerce a...    neutral  \n",
       "4     swedish buyout firm have sell its remain perce...    neutral  \n",
       "...                                                 ...        ...  \n",
       "5650  rise cost have force packaging producer huhtam...   negative  \n",
       "5651  nordic walking be first use as summer training...    neutral  \n",
       "5652  accord ship company vike line eu decision have...    neutral  \n",
       "5653  building home improvement trade sale decrease ...    neutral  \n",
       "5654  helsinki afx kci konecranes say it have win or...   positive  \n",
       "\n",
       "[5655 rows x 103 columns]"
      ]
     },
     "execution_count": 105,
     "metadata": {},
     "output_type": "execute_result"
    }
   ],
   "source": [
    "word2vec_embedding(\n",
    "    data_cleaned,\n",
    "    \"PreprocessedSentence\",\n",
    "    [\"Sentence\", \"PreprocessedSentence\", \"Sentiment\"],\n",
    ")"
   ]
  },
  {
   "cell_type": "code",
   "execution_count": 106,
   "metadata": {},
   "outputs": [],
   "source": [
    "temp = word2vec_embedding(\n",
    "    data_cleaned,\n",
    "    \"PreprocessedSentence\",\n",
    "    [\"Sentence\", \"PreprocessedSentence\", \"Sentiment\"],\n",
    ")"
   ]
  },
  {
   "cell_type": "code",
   "execution_count": 107,
   "metadata": {},
   "outputs": [
    {
     "data": {
      "text/plain": [
       "0"
      ]
     },
     "execution_count": 107,
     "metadata": {},
     "output_type": "execute_result"
    }
   ],
   "source": [
    "temp[\"Sentiment\"].isna().sum()"
   ]
  },
  {
   "cell_type": "markdown",
   "metadata": {},
   "source": [
    "### Word embedding (metodą spacy)"
   ]
  },
  {
   "cell_type": "markdown",
   "metadata": {},
   "source": [
    "Zastosujemy też drugą metodę word emebdding, korzystając z biblioteki spacy. \n",
    "W tym przypadku nie będziemy musieli trenować modelu na naszych danych. \n",
    "Będziemy korzystać z gotowego, wytrenowanego modelu spacy (\"en_core_web_sm\")."
   ]
  },
  {
   "cell_type": "code",
   "execution_count": 108,
   "metadata": {},
   "outputs": [],
   "source": [
    "def spacy_embedding(\n",
    "    data: pd.DataFrame, text_column: str, columns_to_include: list, nlp\n",
    ") -> pd.DataFrame:\n",
    "    \"\"\"\n",
    "    Creates numerical representation of text using spacy.\n",
    "    :param data: Pandas DataFrame containing input data with 'text_column'\n",
    "    :param text_columns: name of column containing text\n",
    "    :param columns_to_include: list of columns from data\n",
    "    :return: Pandas DataFrame containing numeric values representing text\n",
    "    \"\"\"\n",
    "\n",
    "    # 96 is length of normal nlp pipe vector\n",
    "    embedded_text = [\n",
    "        doc.vector if doc else [0] * 96 for doc in nlp.pipe(data[text_column])\n",
    "    ]\n",
    "\n",
    "    embedded_text = pd.DataFrame(embedded_text)\n",
    "\n",
    "    embedded_text[columns_to_include] = data[columns_to_include]\n",
    "\n",
    "    return embedded_text"
   ]
  },
  {
   "cell_type": "code",
   "execution_count": 109,
   "metadata": {},
   "outputs": [
    {
     "data": {
      "text/html": [
       "<div>\n",
       "<style scoped>\n",
       "    .dataframe tbody tr th:only-of-type {\n",
       "        vertical-align: middle;\n",
       "    }\n",
       "\n",
       "    .dataframe tbody tr th {\n",
       "        vertical-align: top;\n",
       "    }\n",
       "\n",
       "    .dataframe thead th {\n",
       "        text-align: right;\n",
       "    }\n",
       "</style>\n",
       "<table border=\"1\" class=\"dataframe\">\n",
       "  <thead>\n",
       "    <tr style=\"text-align: right;\">\n",
       "      <th></th>\n",
       "      <th>0</th>\n",
       "      <th>1</th>\n",
       "      <th>2</th>\n",
       "      <th>3</th>\n",
       "      <th>4</th>\n",
       "      <th>5</th>\n",
       "      <th>6</th>\n",
       "      <th>7</th>\n",
       "      <th>8</th>\n",
       "      <th>9</th>\n",
       "      <th>...</th>\n",
       "      <th>89</th>\n",
       "      <th>90</th>\n",
       "      <th>91</th>\n",
       "      <th>92</th>\n",
       "      <th>93</th>\n",
       "      <th>94</th>\n",
       "      <th>95</th>\n",
       "      <th>Sentence</th>\n",
       "      <th>PreprocessedSentence</th>\n",
       "      <th>Sentiment</th>\n",
       "    </tr>\n",
       "  </thead>\n",
       "  <tbody>\n",
       "    <tr>\n",
       "      <th>0</th>\n",
       "      <td>0.133433</td>\n",
       "      <td>0.871901</td>\n",
       "      <td>0.365697</td>\n",
       "      <td>-0.256001</td>\n",
       "      <td>0.373527</td>\n",
       "      <td>-0.271523</td>\n",
       "      <td>0.000461</td>\n",
       "      <td>0.092298</td>\n",
       "      <td>-0.195847</td>\n",
       "      <td>0.058545</td>\n",
       "      <td>...</td>\n",
       "      <td>-0.355532</td>\n",
       "      <td>-0.095407</td>\n",
       "      <td>-0.211593</td>\n",
       "      <td>0.411392</td>\n",
       "      <td>0.543314</td>\n",
       "      <td>-0.259041</td>\n",
       "      <td>-0.269538</td>\n",
       "      <td>The GeoSolutions technology will leverage Bene...</td>\n",
       "      <td>geosolution technology leverage benefon gps so...</td>\n",
       "      <td>positive</td>\n",
       "    </tr>\n",
       "    <tr>\n",
       "      <th>1</th>\n",
       "      <td>0.512263</td>\n",
       "      <td>-0.024583</td>\n",
       "      <td>-0.273538</td>\n",
       "      <td>-0.326263</td>\n",
       "      <td>0.391909</td>\n",
       "      <td>-0.244203</td>\n",
       "      <td>-0.302843</td>\n",
       "      <td>-0.198969</td>\n",
       "      <td>0.196050</td>\n",
       "      <td>-0.088305</td>\n",
       "      <td>...</td>\n",
       "      <td>0.254506</td>\n",
       "      <td>0.201047</td>\n",
       "      <td>0.574924</td>\n",
       "      <td>-0.229513</td>\n",
       "      <td>0.403106</td>\n",
       "      <td>0.615872</td>\n",
       "      <td>0.149026</td>\n",
       "      <td>$ESI on lows, down $1.50 to $2.50 BK a real po...</td>\n",
       "      <td>esi low down to bk real possibility</td>\n",
       "      <td>negative</td>\n",
       "    </tr>\n",
       "    <tr>\n",
       "      <th>2</th>\n",
       "      <td>0.048958</td>\n",
       "      <td>0.379891</td>\n",
       "      <td>-0.046013</td>\n",
       "      <td>0.446819</td>\n",
       "      <td>0.181975</td>\n",
       "      <td>-0.155599</td>\n",
       "      <td>-0.232785</td>\n",
       "      <td>-0.095827</td>\n",
       "      <td>0.312827</td>\n",
       "      <td>-0.127036</td>\n",
       "      <td>...</td>\n",
       "      <td>0.052061</td>\n",
       "      <td>0.017183</td>\n",
       "      <td>0.392866</td>\n",
       "      <td>0.052592</td>\n",
       "      <td>0.118632</td>\n",
       "      <td>0.117212</td>\n",
       "      <td>0.192037</td>\n",
       "      <td>For the last quarter of 2010 , Componenta 's n...</td>\n",
       "      <td>for last quarter of componenta net sale double...</td>\n",
       "      <td>positive</td>\n",
       "    </tr>\n",
       "    <tr>\n",
       "      <th>3</th>\n",
       "      <td>0.060623</td>\n",
       "      <td>0.530929</td>\n",
       "      <td>-0.070979</td>\n",
       "      <td>-0.148892</td>\n",
       "      <td>0.331757</td>\n",
       "      <td>-0.179980</td>\n",
       "      <td>-0.083385</td>\n",
       "      <td>-0.172724</td>\n",
       "      <td>0.183011</td>\n",
       "      <td>-0.064152</td>\n",
       "      <td>...</td>\n",
       "      <td>0.141741</td>\n",
       "      <td>-0.178245</td>\n",
       "      <td>0.095900</td>\n",
       "      <td>0.129976</td>\n",
       "      <td>0.214867</td>\n",
       "      <td>-0.168137</td>\n",
       "      <td>0.446573</td>\n",
       "      <td>According to the Finnish-Russian Chamber of Co...</td>\n",
       "      <td>accord to finnishrussian chamber of commerce a...</td>\n",
       "      <td>neutral</td>\n",
       "    </tr>\n",
       "    <tr>\n",
       "      <th>4</th>\n",
       "      <td>0.414564</td>\n",
       "      <td>0.390580</td>\n",
       "      <td>0.319709</td>\n",
       "      <td>-0.144357</td>\n",
       "      <td>0.371756</td>\n",
       "      <td>-0.005248</td>\n",
       "      <td>-0.189107</td>\n",
       "      <td>0.019231</td>\n",
       "      <td>-0.186268</td>\n",
       "      <td>-0.280523</td>\n",
       "      <td>...</td>\n",
       "      <td>0.206065</td>\n",
       "      <td>-0.285921</td>\n",
       "      <td>0.233735</td>\n",
       "      <td>0.507143</td>\n",
       "      <td>0.403567</td>\n",
       "      <td>-0.067975</td>\n",
       "      <td>0.082859</td>\n",
       "      <td>The Swedish buyout firm has sold its remaining...</td>\n",
       "      <td>swedish buyout firm have sell its remain perce...</td>\n",
       "      <td>neutral</td>\n",
       "    </tr>\n",
       "    <tr>\n",
       "      <th>...</th>\n",
       "      <td>...</td>\n",
       "      <td>...</td>\n",
       "      <td>...</td>\n",
       "      <td>...</td>\n",
       "      <td>...</td>\n",
       "      <td>...</td>\n",
       "      <td>...</td>\n",
       "      <td>...</td>\n",
       "      <td>...</td>\n",
       "      <td>...</td>\n",
       "      <td>...</td>\n",
       "      <td>...</td>\n",
       "      <td>...</td>\n",
       "      <td>...</td>\n",
       "      <td>...</td>\n",
       "      <td>...</td>\n",
       "      <td>...</td>\n",
       "      <td>...</td>\n",
       "      <td>...</td>\n",
       "      <td>...</td>\n",
       "      <td>...</td>\n",
       "    </tr>\n",
       "    <tr>\n",
       "      <th>5650</th>\n",
       "      <td>0.167240</td>\n",
       "      <td>0.494416</td>\n",
       "      <td>0.215750</td>\n",
       "      <td>-0.187437</td>\n",
       "      <td>0.309543</td>\n",
       "      <td>-0.263484</td>\n",
       "      <td>-0.162785</td>\n",
       "      <td>0.001064</td>\n",
       "      <td>-0.140270</td>\n",
       "      <td>0.224002</td>\n",
       "      <td>...</td>\n",
       "      <td>-0.286249</td>\n",
       "      <td>-0.368833</td>\n",
       "      <td>-0.039826</td>\n",
       "      <td>0.253599</td>\n",
       "      <td>0.520451</td>\n",
       "      <td>-0.163263</td>\n",
       "      <td>0.229102</td>\n",
       "      <td>RISING costs have forced packaging producer Hu...</td>\n",
       "      <td>rise cost have force packaging producer huhtam...</td>\n",
       "      <td>negative</td>\n",
       "    </tr>\n",
       "    <tr>\n",
       "      <th>5651</th>\n",
       "      <td>0.174835</td>\n",
       "      <td>0.544702</td>\n",
       "      <td>0.083809</td>\n",
       "      <td>0.007023</td>\n",
       "      <td>0.157002</td>\n",
       "      <td>-0.197217</td>\n",
       "      <td>-0.165313</td>\n",
       "      <td>0.067592</td>\n",
       "      <td>-0.020151</td>\n",
       "      <td>0.180104</td>\n",
       "      <td>...</td>\n",
       "      <td>-0.060736</td>\n",
       "      <td>-0.287198</td>\n",
       "      <td>0.174852</td>\n",
       "      <td>0.522692</td>\n",
       "      <td>0.606279</td>\n",
       "      <td>0.012643</td>\n",
       "      <td>-0.069499</td>\n",
       "      <td>Nordic Walking was first used as a summer trai...</td>\n",
       "      <td>nordic walking be first use as summer training...</td>\n",
       "      <td>neutral</td>\n",
       "    </tr>\n",
       "    <tr>\n",
       "      <th>5652</th>\n",
       "      <td>0.318092</td>\n",
       "      <td>0.525883</td>\n",
       "      <td>0.349870</td>\n",
       "      <td>-0.214352</td>\n",
       "      <td>0.074195</td>\n",
       "      <td>-0.046369</td>\n",
       "      <td>-0.232579</td>\n",
       "      <td>0.326056</td>\n",
       "      <td>0.101335</td>\n",
       "      <td>0.293083</td>\n",
       "      <td>...</td>\n",
       "      <td>0.265245</td>\n",
       "      <td>0.020697</td>\n",
       "      <td>-0.116310</td>\n",
       "      <td>0.249787</td>\n",
       "      <td>0.325964</td>\n",
       "      <td>-0.049185</td>\n",
       "      <td>-0.149849</td>\n",
       "      <td>According shipping company Viking Line , the E...</td>\n",
       "      <td>accord ship company vike line eu decision have...</td>\n",
       "      <td>neutral</td>\n",
       "    </tr>\n",
       "    <tr>\n",
       "      <th>5653</th>\n",
       "      <td>0.372301</td>\n",
       "      <td>0.409345</td>\n",
       "      <td>0.083437</td>\n",
       "      <td>0.426213</td>\n",
       "      <td>0.189056</td>\n",
       "      <td>-0.838700</td>\n",
       "      <td>-0.179591</td>\n",
       "      <td>-0.109170</td>\n",
       "      <td>-0.459727</td>\n",
       "      <td>0.101312</td>\n",
       "      <td>...</td>\n",
       "      <td>0.039575</td>\n",
       "      <td>-0.315428</td>\n",
       "      <td>-0.162449</td>\n",
       "      <td>0.195550</td>\n",
       "      <td>0.271204</td>\n",
       "      <td>-0.259681</td>\n",
       "      <td>0.111222</td>\n",
       "      <td>In the building and home improvement trade , s...</td>\n",
       "      <td>building home improvement trade sale decrease ...</td>\n",
       "      <td>neutral</td>\n",
       "    </tr>\n",
       "    <tr>\n",
       "      <th>5654</th>\n",
       "      <td>0.801130</td>\n",
       "      <td>0.276496</td>\n",
       "      <td>0.264875</td>\n",
       "      <td>-0.135056</td>\n",
       "      <td>0.113322</td>\n",
       "      <td>-0.168830</td>\n",
       "      <td>-0.663135</td>\n",
       "      <td>0.201542</td>\n",
       "      <td>-0.247078</td>\n",
       "      <td>0.292288</td>\n",
       "      <td>...</td>\n",
       "      <td>-0.027940</td>\n",
       "      <td>-0.000243</td>\n",
       "      <td>-0.189872</td>\n",
       "      <td>0.335731</td>\n",
       "      <td>0.199813</td>\n",
       "      <td>-0.296627</td>\n",
       "      <td>0.130847</td>\n",
       "      <td>HELSINKI AFX - KCI Konecranes said it has won ...</td>\n",
       "      <td>helsinki afx kci konecranes say it have win or...</td>\n",
       "      <td>positive</td>\n",
       "    </tr>\n",
       "  </tbody>\n",
       "</table>\n",
       "<p>5655 rows × 99 columns</p>\n",
       "</div>"
      ],
      "text/plain": [
       "             0         1         2         3         4         5         6  \\\n",
       "0     0.133433  0.871901  0.365697 -0.256001  0.373527 -0.271523  0.000461   \n",
       "1     0.512263 -0.024583 -0.273538 -0.326263  0.391909 -0.244203 -0.302843   \n",
       "2     0.048958  0.379891 -0.046013  0.446819  0.181975 -0.155599 -0.232785   \n",
       "3     0.060623  0.530929 -0.070979 -0.148892  0.331757 -0.179980 -0.083385   \n",
       "4     0.414564  0.390580  0.319709 -0.144357  0.371756 -0.005248 -0.189107   \n",
       "...        ...       ...       ...       ...       ...       ...       ...   \n",
       "5650  0.167240  0.494416  0.215750 -0.187437  0.309543 -0.263484 -0.162785   \n",
       "5651  0.174835  0.544702  0.083809  0.007023  0.157002 -0.197217 -0.165313   \n",
       "5652  0.318092  0.525883  0.349870 -0.214352  0.074195 -0.046369 -0.232579   \n",
       "5653  0.372301  0.409345  0.083437  0.426213  0.189056 -0.838700 -0.179591   \n",
       "5654  0.801130  0.276496  0.264875 -0.135056  0.113322 -0.168830 -0.663135   \n",
       "\n",
       "             7         8         9  ...        89        90        91  \\\n",
       "0     0.092298 -0.195847  0.058545  ... -0.355532 -0.095407 -0.211593   \n",
       "1    -0.198969  0.196050 -0.088305  ...  0.254506  0.201047  0.574924   \n",
       "2    -0.095827  0.312827 -0.127036  ...  0.052061  0.017183  0.392866   \n",
       "3    -0.172724  0.183011 -0.064152  ...  0.141741 -0.178245  0.095900   \n",
       "4     0.019231 -0.186268 -0.280523  ...  0.206065 -0.285921  0.233735   \n",
       "...        ...       ...       ...  ...       ...       ...       ...   \n",
       "5650  0.001064 -0.140270  0.224002  ... -0.286249 -0.368833 -0.039826   \n",
       "5651  0.067592 -0.020151  0.180104  ... -0.060736 -0.287198  0.174852   \n",
       "5652  0.326056  0.101335  0.293083  ...  0.265245  0.020697 -0.116310   \n",
       "5653 -0.109170 -0.459727  0.101312  ...  0.039575 -0.315428 -0.162449   \n",
       "5654  0.201542 -0.247078  0.292288  ... -0.027940 -0.000243 -0.189872   \n",
       "\n",
       "            92        93        94        95  \\\n",
       "0     0.411392  0.543314 -0.259041 -0.269538   \n",
       "1    -0.229513  0.403106  0.615872  0.149026   \n",
       "2     0.052592  0.118632  0.117212  0.192037   \n",
       "3     0.129976  0.214867 -0.168137  0.446573   \n",
       "4     0.507143  0.403567 -0.067975  0.082859   \n",
       "...        ...       ...       ...       ...   \n",
       "5650  0.253599  0.520451 -0.163263  0.229102   \n",
       "5651  0.522692  0.606279  0.012643 -0.069499   \n",
       "5652  0.249787  0.325964 -0.049185 -0.149849   \n",
       "5653  0.195550  0.271204 -0.259681  0.111222   \n",
       "5654  0.335731  0.199813 -0.296627  0.130847   \n",
       "\n",
       "                                               Sentence  \\\n",
       "0     The GeoSolutions technology will leverage Bene...   \n",
       "1     $ESI on lows, down $1.50 to $2.50 BK a real po...   \n",
       "2     For the last quarter of 2010 , Componenta 's n...   \n",
       "3     According to the Finnish-Russian Chamber of Co...   \n",
       "4     The Swedish buyout firm has sold its remaining...   \n",
       "...                                                 ...   \n",
       "5650  RISING costs have forced packaging producer Hu...   \n",
       "5651  Nordic Walking was first used as a summer trai...   \n",
       "5652  According shipping company Viking Line , the E...   \n",
       "5653  In the building and home improvement trade , s...   \n",
       "5654  HELSINKI AFX - KCI Konecranes said it has won ...   \n",
       "\n",
       "                                   PreprocessedSentence  Sentiment  \n",
       "0     geosolution technology leverage benefon gps so...   positive  \n",
       "1                   esi low down to bk real possibility   negative  \n",
       "2     for last quarter of componenta net sale double...   positive  \n",
       "3     accord to finnishrussian chamber of commerce a...    neutral  \n",
       "4     swedish buyout firm have sell its remain perce...    neutral  \n",
       "...                                                 ...        ...  \n",
       "5650  rise cost have force packaging producer huhtam...   negative  \n",
       "5651  nordic walking be first use as summer training...    neutral  \n",
       "5652  accord ship company vike line eu decision have...    neutral  \n",
       "5653  building home improvement trade sale decrease ...    neutral  \n",
       "5654  helsinki afx kci konecranes say it have win or...   positive  \n",
       "\n",
       "[5655 rows x 99 columns]"
      ]
     },
     "execution_count": 109,
     "metadata": {},
     "output_type": "execute_result"
    }
   ],
   "source": [
    "nlp = spacy.load(\"en_core_web_sm\")\n",
    "spacy_embedding(\n",
    "    data_cleaned,\n",
    "    \"PreprocessedSentence\",\n",
    "    [\"Sentence\", \"PreprocessedSentence\", \"Sentiment\"],\n",
    "    nlp,\n",
    ")"
   ]
  },
  {
   "cell_type": "markdown",
   "metadata": {},
   "source": [
    "## Part-of-speech tagging"
   ]
  },
  {
   "cell_type": "markdown",
   "metadata": {},
   "source": [
    "W dalszej części zajęć będziemy korzystać wielokrotnie korzystać modelu spacy \"en_core_web_sm\":"
   ]
  },
  {
   "cell_type": "code",
   "execution_count": 110,
   "metadata": {},
   "outputs": [],
   "source": [
    "nlp = spacy.load(\"en_core_web_sm\")"
   ]
  },
  {
   "cell_type": "markdown",
   "metadata": {},
   "source": [
    "Przykłady part-of-speech tagging z wykorzystaniem spacy:"
   ]
  },
  {
   "cell_type": "code",
   "execution_count": 111,
   "metadata": {},
   "outputs": [
    {
     "name": "stdout",
     "output_type": "stream",
     "text": [
      "The DET det bear\n",
      "bear NOUN nsubj is\n",
      "is AUX ROOT is\n",
      "a DET det animal\n",
      "majestic ADJ amod animal\n",
      "animal NOUN attr is\n"
     ]
    }
   ],
   "source": [
    "sentence = \"The bear is a majestic animal\"\n",
    "doc = nlp(sentence)\n",
    "for token in doc:\n",
    "    print(token.text, token.pos_, token.dep_, token.head.text)"
   ]
  },
  {
   "cell_type": "markdown",
   "metadata": {},
   "source": [
    "Skróty opisujące części mowy i relacje między słowami w zdaniu można szybko sprawdzić\n",
    "za pomocą funkcji `spacy.explain()`."
   ]
  },
  {
   "cell_type": "code",
   "execution_count": 112,
   "metadata": {},
   "outputs": [
    {
     "data": {
      "text/plain": [
       "'adjective'"
      ]
     },
     "execution_count": 112,
     "metadata": {},
     "output_type": "execute_result"
    }
   ],
   "source": [
    "spacy.explain(\"ADJ\")"
   ]
  },
  {
   "cell_type": "code",
   "execution_count": 113,
   "metadata": {},
   "outputs": [
    {
     "data": {
      "text/plain": [
       "'nominal subject'"
      ]
     },
     "execution_count": 113,
     "metadata": {},
     "output_type": "execute_result"
    }
   ],
   "source": [
    "spacy.explain(\"nsubj\")"
   ]
  },
  {
   "cell_type": "markdown",
   "metadata": {},
   "source": [
    "Part-of-speech tagging możemy użyć między innymi do EDA (Exploratory Data Analysis). \n",
    "My także użyjemy je w ramach EDA. Sprawdzimy najczęściej występujące czasowniki\n",
    " dla każdego rodzaju sentymentu. Dzięki temu sprawdzimy, czy są istotne \n",
    "różnice w tekstach dla poszczególnych sentymentów, które wyrazy pojawiają się równie \n",
    "często w każdym z nich itd."
   ]
  },
  {
   "cell_type": "code",
   "execution_count": 114,
   "metadata": {},
   "outputs": [],
   "source": [
    "def find_verb_in_text(text: str, nlp) -> list[str]:\n",
    "    \"\"\"\n",
    "    Finds \"VERBS\" in text using spacy POS.\n",
    "    :param text: input text\n",
    "    :pos_to_find: part of speech\n",
    "    :param nlp: spacy model\n",
    "    :return: list of pos found in text\n",
    "    \"\"\"\n",
    "    doc = nlp(text)\n",
    "\n",
    "    found_pos = [token.lemma_.lower() for token in doc if token.pos_ == \"VERB\"]\n",
    "\n",
    "    return found_pos"
   ]
  },
  {
   "cell_type": "code",
   "execution_count": 115,
   "metadata": {},
   "outputs": [],
   "source": [
    "sentence = \"circulation revenue have increase by in finland and in sweden in\""
   ]
  },
  {
   "cell_type": "code",
   "execution_count": 116,
   "metadata": {},
   "outputs": [
    {
     "data": {
      "text/plain": [
       "['increase']"
      ]
     },
     "execution_count": 116,
     "metadata": {},
     "output_type": "execute_result"
    }
   ],
   "source": [
    "find_verb_in_text(sentence, nlp)"
   ]
  },
  {
   "cell_type": "code",
   "execution_count": 117,
   "metadata": {},
   "outputs": [],
   "source": [
    "def create_barplots_for_pos(data: pd.DataFrame, text_column: str, nlp):\n",
    "    \"\"\"\n",
    "    Creates bar plots for the 10 most common verbs for each sentiment.\n",
    "    :param data: Pandas DataFrame containing data with text_column\n",
    "    :param text_column: name of column containing text\n",
    "    :param nlp: spacy model\n",
    "    \"\"\"\n",
    "    positive_list = find_verb_in_text(\n",
    "        data[data[\"Sentiment\"] == \"positive\"][text_column].to_string(), nlp\n",
    "    )\n",
    "    negative_list = find_verb_in_text(\n",
    "        data[data[\"Sentiment\"] == \"negative\"][text_column].to_string(), nlp\n",
    "    )\n",
    "    neutral_list = find_verb_in_text(\n",
    "        data[data[\"Sentiment\"] == \"neutral\"][text_column].to_string(), nlp\n",
    "    )\n",
    "\n",
    "    fig, ax = plt.subplots(1, 3, figsize=(15, 5))\n",
    "    fig.suptitle(\"Most frequent VERBS\")\n",
    "    pd.Series(positive_list).value_counts()[:10].plot.bar(ax=ax[0])\n",
    "    ax[0].set_title(\"Positive\")\n",
    "    pd.Series(negative_list).value_counts()[:10].plot.bar(ax=ax[1])\n",
    "    ax[1].set_title(\"Negative\")\n",
    "    pd.Series(neutral_list).value_counts()[:10].plot.bar(ax=ax[2])\n",
    "    ax[2].set_title(\"Neutral\")\n",
    "\n",
    "    plt.show()"
   ]
  },
  {
   "cell_type": "code",
   "execution_count": 118,
   "metadata": {},
   "outputs": [
    {
     "data": {
      "image/png": "[encoded data removed]",
      "text/plain": [
       "<Figure size 1500x500 with 3 Axes>"
      ]
     },
     "metadata": {},
     "output_type": "display_data"
    }
   ],
   "source": [
    "create_barplots_for_pos(data_cleaned, \"PreprocessedSentence\", nlp)"
   ]
  },
  {
   "cell_type": "markdown",
   "metadata": {},
   "source": [
    "## Named Entity Recognition"
   ]
  },
  {
   "cell_type": "markdown",
   "metadata": {},
   "source": [
    "Przykłady named entity recognition z wykorzystaniem spacy:"
   ]
  },
  {
   "cell_type": "code",
   "execution_count": 119,
   "metadata": {},
   "outputs": [
    {
     "name": "stdout",
     "output_type": "stream",
     "text": [
      "Apple ORG\n",
      "U.K. GPE\n",
      "$1 billion MONEY\n"
     ]
    }
   ],
   "source": [
    "sentence = \"Apple is looking at buying U.K. startup for $1 billion\"\n",
    "doc = nlp(sentence)\n",
    "for ent in doc.ents:\n",
    "    print(ent.text, ent.label_)"
   ]
  },
  {
   "cell_type": "markdown",
   "metadata": {},
   "source": [
    "Skróty opisujące NER także możemy sprawdzić\n",
    "za pomocą funkcji `spacy.explain()`."
   ]
  },
  {
   "cell_type": "code",
   "execution_count": 120,
   "metadata": {},
   "outputs": [
    {
     "data": {
      "text/plain": [
       "'Countries, cities, states'"
      ]
     },
     "execution_count": 120,
     "metadata": {},
     "output_type": "execute_result"
    }
   ],
   "source": [
    "spacy.explain(\"GPE\")"
   ]
  },
  {
   "cell_type": "markdown",
   "metadata": {},
   "source": [
    "Napiszemy teraz funkcje, które pozwolą na wyszukanie ludzi (imion i nazwisk), \n",
    "nazw organizacji oraz cen."
   ]
  },
  {
   "cell_type": "markdown",
   "metadata": {},
   "source": [
    "Skorzystamy z nieoczyszczonej kolumny \"Sentence\". Oczyszczona kolumna nie zawiera wielkich\n",
    "liter, stop words, liczb oraz znaków interpunkcyjnych, co sprawi, \n",
    "że spacy nie będzie wyszukiwał tak efektywnie NER, jakby mógł - np. wyszukanie\n",
    "cen byłoby niemożliwe. "
   ]
  },
  {
   "cell_type": "markdown",
   "metadata": {},
   "source": [
    "Jednak w pierwszym etapie naszej funkcji wykonamy na kolumnie \"Sentence\" bardzo \n",
    "proste czyszczenie - usuniemy wielokrotne spacje. Zdarzają sie one w oryginalnym tekście,\n",
    "co z kolei już może być utrudnieniem dla modelu spacy."
   ]
  },
  {
   "cell_type": "markdown",
   "metadata": {},
   "source": [
    "### Prices"
   ]
  },
  {
   "cell_type": "code",
   "execution_count": 121,
   "metadata": {},
   "outputs": [],
   "source": [
    "def find_prices_in_text_initially(text: str, nlp) -> list[str]:\n",
    "    \"\"\"\n",
    "    Finds organizations in text using spacy Named Entity Recognition (NER).\n",
    "    :param text: input text\n",
    "    :param nlp: spacy model\n",
    "    :return: list of organizations found in text\n",
    "    \"\"\"\n",
    "    text_cleaned = re.sub(r\"\\s+\", \" \", text).strip()\n",
    "\n",
    "    doc = nlp(text_cleaned)\n",
    "\n",
    "    found_prices = [entity.lemma_ for entity in doc.ents if entity.label_ == \"MONEY\"]\n",
    "\n",
    "    found_prices_unique = list(set(found_prices))\n",
    "\n",
    "    return found_prices_unique"
   ]
  },
  {
   "cell_type": "code",
   "execution_count": 122,
   "metadata": {},
   "outputs": [
    {
     "data": {
      "text/plain": [
       "['$70 billion']"
      ]
     },
     "execution_count": 122,
     "metadata": {},
     "output_type": "execute_result"
    }
   ],
   "source": [
    "sentence = \"Shell's $70 Billion BG Deal Meets Shareholder Skepticism\"\n",
    "find_prices_in_text_initially(sentence, nlp)"
   ]
  },
  {
   "cell_type": "code",
   "execution_count": 123,
   "metadata": {},
   "outputs": [],
   "source": [
    "data_cleaned[\"PricesInitially\"] = data_cleaned[\"Sentence\"].apply(\n",
    "    lambda x: find_prices_in_text_initially(x, nlp)\n",
    ")"
   ]
  },
  {
   "cell_type": "code",
   "execution_count": 124,
   "metadata": {},
   "outputs": [
    {
     "data": {
      "text/html": [
       "<div>\n",
       "<style scoped>\n",
       "    .dataframe tbody tr th:only-of-type {\n",
       "        vertical-align: middle;\n",
       "    }\n",
       "\n",
       "    .dataframe tbody tr th {\n",
       "        vertical-align: top;\n",
       "    }\n",
       "\n",
       "    .dataframe thead th {\n",
       "        text-align: right;\n",
       "    }\n",
       "</style>\n",
       "<table border=\"1\" class=\"dataframe\">\n",
       "  <thead>\n",
       "    <tr style=\"text-align: right;\">\n",
       "      <th></th>\n",
       "      <th>Sentence</th>\n",
       "      <th>PricesInitially</th>\n",
       "    </tr>\n",
       "  </thead>\n",
       "  <tbody>\n",
       "    <tr>\n",
       "      <th>0</th>\n",
       "      <td>The GeoSolutions technology will leverage Bene...</td>\n",
       "      <td>[]</td>\n",
       "    </tr>\n",
       "    <tr>\n",
       "      <th>1</th>\n",
       "      <td>$ESI on lows, down $1.50 to $2.50 BK a real po...</td>\n",
       "      <td>[2.50, 1.50]</td>\n",
       "    </tr>\n",
       "    <tr>\n",
       "      <th>2</th>\n",
       "      <td>For the last quarter of 2010 , Componenta 's n...</td>\n",
       "      <td>[]</td>\n",
       "    </tr>\n",
       "    <tr>\n",
       "      <th>3</th>\n",
       "      <td>According to the Finnish-Russian Chamber of Co...</td>\n",
       "      <td>[]</td>\n",
       "    </tr>\n",
       "    <tr>\n",
       "      <th>4</th>\n",
       "      <td>The Swedish buyout firm has sold its remaining...</td>\n",
       "      <td>[]</td>\n",
       "    </tr>\n",
       "    <tr>\n",
       "      <th>...</th>\n",
       "      <td>...</td>\n",
       "      <td>...</td>\n",
       "    </tr>\n",
       "    <tr>\n",
       "      <th>5650</th>\n",
       "      <td>RISING costs have forced packaging producer Hu...</td>\n",
       "      <td>[]</td>\n",
       "    </tr>\n",
       "    <tr>\n",
       "      <th>5651</th>\n",
       "      <td>Nordic Walking was first used as a summer trai...</td>\n",
       "      <td>[]</td>\n",
       "    </tr>\n",
       "    <tr>\n",
       "      <th>5652</th>\n",
       "      <td>According shipping company Viking Line , the E...</td>\n",
       "      <td>[]</td>\n",
       "    </tr>\n",
       "    <tr>\n",
       "      <th>5653</th>\n",
       "      <td>In the building and home improvement trade , s...</td>\n",
       "      <td>[]</td>\n",
       "    </tr>\n",
       "    <tr>\n",
       "      <th>5654</th>\n",
       "      <td>HELSINKI AFX - KCI Konecranes said it has won ...</td>\n",
       "      <td>[]</td>\n",
       "    </tr>\n",
       "  </tbody>\n",
       "</table>\n",
       "<p>5655 rows × 2 columns</p>\n",
       "</div>"
      ],
      "text/plain": [
       "                                               Sentence PricesInitially\n",
       "0     The GeoSolutions technology will leverage Bene...              []\n",
       "1     $ESI on lows, down $1.50 to $2.50 BK a real po...    [2.50, 1.50]\n",
       "2     For the last quarter of 2010 , Componenta 's n...              []\n",
       "3     According to the Finnish-Russian Chamber of Co...              []\n",
       "4     The Swedish buyout firm has sold its remaining...              []\n",
       "...                                                 ...             ...\n",
       "5650  RISING costs have forced packaging producer Hu...              []\n",
       "5651  Nordic Walking was first used as a summer trai...              []\n",
       "5652  According shipping company Viking Line , the E...              []\n",
       "5653  In the building and home improvement trade , s...              []\n",
       "5654  HELSINKI AFX - KCI Konecranes said it has won ...              []\n",
       "\n",
       "[5655 rows x 2 columns]"
      ]
     },
     "execution_count": 124,
     "metadata": {},
     "output_type": "execute_result"
    }
   ],
   "source": [
    "data_cleaned[[\"Sentence\", \"PricesInitially\"]]"
   ]
  },
  {
   "cell_type": "markdown",
   "metadata": {},
   "source": [
    "Niestety spacy nie zawsze przypisuje poprawnie etykiety NER. Dzieje się tak, dlatego\n",
    "że przypisywanie tych etykiet jest ściśle uzależnione od przykładów, na których \n",
    "model, z którego korzystamy, uczył się. Dlatego też czasami konieczne są dodatkowe kroki, \n",
    "np. wyselekcjonowanie poprawnych etykiet NER."
   ]
  },
  {
   "cell_type": "markdown",
   "metadata": {},
   "source": [
    "Żeby wiedzieć, co należy poprawić w funkcji wyszukującej ceny, przyjrzymy się poprawnym i błędym klasyfikacjom cen."
   ]
  },
  {
   "cell_type": "markdown",
   "metadata": {},
   "source": [
    "Przykład poprawnego działa funkcji `find_prices_in_text_initially()`:"
   ]
  },
  {
   "cell_type": "code",
   "execution_count": 125,
   "metadata": {},
   "outputs": [
    {
     "data": {
      "text/plain": [
       "['2.50', '1.50']"
      ]
     },
     "execution_count": 125,
     "metadata": {},
     "output_type": "execute_result"
    }
   ],
   "source": [
    "sentence = \"$ESI on lows, down $1.50 to $2.50 BK a real possibility\"\n",
    "find_prices_in_text_initially(sentence, nlp)"
   ]
  },
  {
   "cell_type": "code",
   "execution_count": 126,
   "metadata": {},
   "outputs": [
    {
     "data": {
      "text/plain": [
       "['0.01']"
      ]
     },
     "execution_count": 126,
     "metadata": {},
     "output_type": "execute_result"
    }
   ],
   "source": [
    "sentence = (\n",
    "    \"Fastenal misses by $0.01, misses on revenue $FAST #NYSE https://t.co/63JHQ7pwMN\"\n",
    ")\n",
    "find_prices_in_text_initially(sentence, nlp)"
   ]
  },
  {
   "cell_type": "code",
   "execution_count": 127,
   "metadata": {},
   "outputs": [
    {
     "data": {
      "text/plain": [
       "['eight US dollar']"
      ]
     },
     "execution_count": 127,
     "metadata": {},
     "output_type": "execute_result"
    }
   ],
   "source": [
    "sentence = \"A purchase agreement for 7,200 tons of gasoline with delivery at the Hamina terminal , Finland , was signed with Neste Oil OYj at the average Platts index for this September plus eight US dollars per month .\"\n",
    "find_prices_in_text_initially(sentence, nlp)"
   ]
  },
  {
   "cell_type": "code",
   "execution_count": 128,
   "metadata": {},
   "outputs": [
    {
     "data": {
      "text/plain": [
       "['1 cent', '5 cent']"
      ]
     },
     "execution_count": 128,
     "metadata": {},
     "output_type": "execute_result"
    }
   ],
   "source": [
    "sentence = \"The latest result included per-share charges of 5 cents for stock compensation , 1 cent for research and development and 1 cent for strategic investments .\"\n",
    "find_prices_in_text_initially(sentence, nlp)"
   ]
  },
  {
   "cell_type": "markdown",
   "metadata": {},
   "source": [
    "Jednak istnieją teksty, dla których nasza funkcja\n",
    "niepoprawnie znajduje waluty, ceny itp. Czasami też nie wyszukuje wszystkich cen."
   ]
  },
  {
   "cell_type": "code",
   "execution_count": 129,
   "metadata": {},
   "outputs": [
    {
     "data": {
      "text/plain": [
       "[]"
      ]
     },
     "execution_count": 129,
     "metadata": {},
     "output_type": "execute_result"
    }
   ],
   "source": [
    "sentence = \"For the last quarter of 2010 , Componenta 's net sales doubled to EUR131m from EUR76m for the same period a year earlier , while it moved to a zero pre-tax profit from a pre-tax loss of EUR7m .\"\n",
    "find_prices_in_text_initially(sentence, nlp)"
   ]
  },
  {
   "cell_type": "code",
   "execution_count": 130,
   "metadata": {},
   "outputs": [
    {
     "data": {
      "text/plain": [
       "['$vz $CELG', '$SBUX $', '$YHOO $GDX', '$STZ']"
      ]
     },
     "execution_count": 130,
     "metadata": {},
     "output_type": "execute_result"
    }
   ],
   "source": [
    "sentence = \"Most bullish stocks on Twitter during this dip. $YHOO $GDX $GOOGL $STZ $GOLD $EW $VZ $CELG $SBUX $SCTY more: https://t.co/iuZJelfwt3\"\n",
    "find_prices_in_text_initially(sentence, nlp)"
   ]
  },
  {
   "cell_type": "code",
   "execution_count": 131,
   "metadata": {},
   "outputs": [
    {
     "data": {
      "text/plain": [
       "['#tech #']"
      ]
     },
     "execution_count": 131,
     "metadata": {},
     "output_type": "execute_result"
    }
   ],
   "source": [
    "sentence = \"$TSLA Recalls 2,700 Model X Vehicles; Shares Volatile https://t.co/tcKqZnMIqX #TSLA #tech #stockmarket https://t.co/FeMhJtAmQj\"\n",
    "find_prices_in_text_initially(sentence, nlp)"
   ]
  },
  {
   "cell_type": "code",
   "execution_count": 132,
   "metadata": {},
   "outputs": [
    {
     "data": {
      "text/plain": [
       "['AAPL']"
      ]
     },
     "execution_count": 132,
     "metadata": {},
     "output_type": "execute_result"
    }
   ],
   "source": [
    "sentence = \"loading $SPY and $AAPL puts. think were toppy IMHO.\"\n",
    "find_prices_in_text_initially(sentence, nlp)"
   ]
  },
  {
   "cell_type": "markdown",
   "metadata": {},
   "source": [
    "Zauważyliśmy, że spacy indentyfikuje jako \"MONEY\" wyrażenia zaczynające się od znaku \"$\" po których następuje\n",
    "ciąg liter - takie wyrażenia usuniemy w nowej wersji funkcji. \n",
    "Spacy często też nie wyszukuje walut, które rozpoczynają się od \"EUR\" lub \"USD\" następnie występuje wartość liczbowa (zapisana cyframi)\n",
    "oraz liczba zapisana słownie, za pomocą skrótu lub pełnego wyrazu, np. \"EUR76m\" lub \"USD 12.4 billion\". \n",
    "Dlatego dopiszemy też fragment kodu, który takie ceny będzie również wychwytywał."
   ]
  },
  {
   "cell_type": "code",
   "execution_count": 133,
   "metadata": {},
   "outputs": [],
   "source": [
    "def find_prices_in_text(text: str, nlp) -> list[str]:\n",
    "    \"\"\"\n",
    "    Finds organizations in text using spacy Named Entity Recognition (NER).\n",
    "    :param text: input text\n",
    "    :param nlp: spacy model\n",
    "    :return: list of organizations found in text\n",
    "    \"\"\"\n",
    "    text_cleaned = re.sub(r\"\\s+\", \" \", text).strip()\n",
    "\n",
    "    doc = nlp(text_cleaned)\n",
    "\n",
    "    spacy_found_prices = [\n",
    "        entity.lemma_ for entity in doc.ents if entity.label_ == \"MONEY\"\n",
    "    ]\n",
    "\n",
    "    incorrect_price_pattern = r\"\\$\\s?[a-zA-Z]+\"\n",
    "    spacy_found_prices = [\n",
    "        price\n",
    "        for price in spacy_found_prices\n",
    "        if not re.search(incorrect_price_pattern, price)\n",
    "    ]\n",
    "    price_pattern = r\"(?:EUR|USD)\\s?\\d+\\s?[\\.,]?\\d*\\s?(?:million|mn|m|billion|bn)?\"\n",
    "    price_pattern_matches = re.findall(price_pattern, text)\n",
    "\n",
    "    found_prices = spacy_found_prices + price_pattern_matches\n",
    "    found_prices_unique = list(set(found_prices))\n",
    "\n",
    "    return found_prices_unique"
   ]
  },
  {
   "cell_type": "code",
   "execution_count": 134,
   "metadata": {},
   "outputs": [],
   "source": [
    "data_cleaned[\"Prices\"] = data_cleaned[\"Sentence\"].apply(\n",
    "    lambda x: find_prices_in_text(x, nlp)\n",
    ")"
   ]
  },
  {
   "cell_type": "code",
   "execution_count": 135,
   "metadata": {},
   "outputs": [
    {
     "data": {
      "text/html": [
       "<div>\n",
       "<style scoped>\n",
       "    .dataframe tbody tr th:only-of-type {\n",
       "        vertical-align: middle;\n",
       "    }\n",
       "\n",
       "    .dataframe tbody tr th {\n",
       "        vertical-align: top;\n",
       "    }\n",
       "\n",
       "    .dataframe thead th {\n",
       "        text-align: right;\n",
       "    }\n",
       "</style>\n",
       "<table border=\"1\" class=\"dataframe\">\n",
       "  <thead>\n",
       "    <tr style=\"text-align: right;\">\n",
       "      <th></th>\n",
       "      <th>Sentence</th>\n",
       "      <th>PricesInitially</th>\n",
       "      <th>Prices</th>\n",
       "    </tr>\n",
       "  </thead>\n",
       "  <tbody>\n",
       "    <tr>\n",
       "      <th>0</th>\n",
       "      <td>The GeoSolutions technology will leverage Bene...</td>\n",
       "      <td>[]</td>\n",
       "      <td>[]</td>\n",
       "    </tr>\n",
       "    <tr>\n",
       "      <th>1</th>\n",
       "      <td>$ESI on lows, down $1.50 to $2.50 BK a real po...</td>\n",
       "      <td>[2.50, 1.50]</td>\n",
       "      <td>[2.50, 1.50]</td>\n",
       "    </tr>\n",
       "    <tr>\n",
       "      <th>2</th>\n",
       "      <td>For the last quarter of 2010 , Componenta 's n...</td>\n",
       "      <td>[]</td>\n",
       "      <td>[EUR76m, EUR131m, EUR7m]</td>\n",
       "    </tr>\n",
       "    <tr>\n",
       "      <th>3</th>\n",
       "      <td>According to the Finnish-Russian Chamber of Co...</td>\n",
       "      <td>[]</td>\n",
       "      <td>[]</td>\n",
       "    </tr>\n",
       "    <tr>\n",
       "      <th>4</th>\n",
       "      <td>The Swedish buyout firm has sold its remaining...</td>\n",
       "      <td>[]</td>\n",
       "      <td>[]</td>\n",
       "    </tr>\n",
       "    <tr>\n",
       "      <th>...</th>\n",
       "      <td>...</td>\n",
       "      <td>...</td>\n",
       "      <td>...</td>\n",
       "    </tr>\n",
       "    <tr>\n",
       "      <th>5650</th>\n",
       "      <td>RISING costs have forced packaging producer Hu...</td>\n",
       "      <td>[]</td>\n",
       "      <td>[]</td>\n",
       "    </tr>\n",
       "    <tr>\n",
       "      <th>5651</th>\n",
       "      <td>Nordic Walking was first used as a summer trai...</td>\n",
       "      <td>[]</td>\n",
       "      <td>[]</td>\n",
       "    </tr>\n",
       "    <tr>\n",
       "      <th>5652</th>\n",
       "      <td>According shipping company Viking Line , the E...</td>\n",
       "      <td>[]</td>\n",
       "      <td>[]</td>\n",
       "    </tr>\n",
       "    <tr>\n",
       "      <th>5653</th>\n",
       "      <td>In the building and home improvement trade , s...</td>\n",
       "      <td>[]</td>\n",
       "      <td>[EUR 201.4 mn]</td>\n",
       "    </tr>\n",
       "    <tr>\n",
       "      <th>5654</th>\n",
       "      <td>HELSINKI AFX - KCI Konecranes said it has won ...</td>\n",
       "      <td>[]</td>\n",
       "      <td>[]</td>\n",
       "    </tr>\n",
       "  </tbody>\n",
       "</table>\n",
       "<p>5655 rows × 3 columns</p>\n",
       "</div>"
      ],
      "text/plain": [
       "                                               Sentence PricesInitially  \\\n",
       "0     The GeoSolutions technology will leverage Bene...              []   \n",
       "1     $ESI on lows, down $1.50 to $2.50 BK a real po...    [2.50, 1.50]   \n",
       "2     For the last quarter of 2010 , Componenta 's n...              []   \n",
       "3     According to the Finnish-Russian Chamber of Co...              []   \n",
       "4     The Swedish buyout firm has sold its remaining...              []   \n",
       "...                                                 ...             ...   \n",
       "5650  RISING costs have forced packaging producer Hu...              []   \n",
       "5651  Nordic Walking was first used as a summer trai...              []   \n",
       "5652  According shipping company Viking Line , the E...              []   \n",
       "5653  In the building and home improvement trade , s...              []   \n",
       "5654  HELSINKI AFX - KCI Konecranes said it has won ...              []   \n",
       "\n",
       "                        Prices  \n",
       "0                           []  \n",
       "1                 [2.50, 1.50]  \n",
       "2     [EUR76m, EUR131m, EUR7m]  \n",
       "3                           []  \n",
       "4                           []  \n",
       "...                        ...  \n",
       "5650                        []  \n",
       "5651                        []  \n",
       "5652                        []  \n",
       "5653            [EUR 201.4 mn]  \n",
       "5654                        []  \n",
       "\n",
       "[5655 rows x 3 columns]"
      ]
     },
     "execution_count": 135,
     "metadata": {},
     "output_type": "execute_result"
    }
   ],
   "source": [
    "data_cleaned[[\"Sentence\", \"PricesInitially\", \"Prices\"]]"
   ]
  },
  {
   "cell_type": "markdown",
   "metadata": {},
   "source": [
    "### People"
   ]
  },
  {
   "cell_type": "code",
   "execution_count": 136,
   "metadata": {},
   "outputs": [],
   "source": [
    "def find_people_in_text_initially(text: str, nlp) -> list[str]:\n",
    "    \"\"\"\n",
    "    Finds people in text using Named Entity Recognition (NER).\n",
    "    :param text: input text\n",
    "    :param nlp: spacy model\n",
    "    :return: list of people found in text\n",
    "    \"\"\"\n",
    "    text_cleaned = re.sub(r\"\\s+\", \" \", text).strip()\n",
    "\n",
    "    doc = nlp(text_cleaned)\n",
    "\n",
    "    founds_persons = [entity.text for entity in doc.ents if entity.label_ == \"PERSON\"]\n",
    "\n",
    "    return founds_persons"
   ]
  },
  {
   "cell_type": "code",
   "execution_count": 137,
   "metadata": {},
   "outputs": [
    {
     "data": {
      "text/plain": [
       "['Yvonne Jones']"
      ]
     },
     "execution_count": 137,
     "metadata": {},
     "output_type": "execute_result"
    }
   ],
   "source": [
    "sentence = \"Yvonne Jones is owner of Chameleon Interiors.\"\n",
    "find_people_in_text_initially(sentence, nlp)"
   ]
  },
  {
   "cell_type": "code",
   "execution_count": 138,
   "metadata": {},
   "outputs": [],
   "source": [
    "data_cleaned[\"PeopleInitially\"] = data_cleaned[\"Sentence\"].apply(\n",
    "    lambda x: find_people_in_text_initially(x, nlp)\n",
    ")"
   ]
  },
  {
   "cell_type": "code",
   "execution_count": 139,
   "metadata": {},
   "outputs": [
    {
     "data": {
      "text/html": [
       "<div>\n",
       "<style scoped>\n",
       "    .dataframe tbody tr th:only-of-type {\n",
       "        vertical-align: middle;\n",
       "    }\n",
       "\n",
       "    .dataframe tbody tr th {\n",
       "        vertical-align: top;\n",
       "    }\n",
       "\n",
       "    .dataframe thead th {\n",
       "        text-align: right;\n",
       "    }\n",
       "</style>\n",
       "<table border=\"1\" class=\"dataframe\">\n",
       "  <thead>\n",
       "    <tr style=\"text-align: right;\">\n",
       "      <th></th>\n",
       "      <th>Sentence</th>\n",
       "      <th>PeopleInitially</th>\n",
       "    </tr>\n",
       "  </thead>\n",
       "  <tbody>\n",
       "    <tr>\n",
       "      <th>0</th>\n",
       "      <td>The GeoSolutions technology will leverage Bene...</td>\n",
       "      <td>[Benefon]</td>\n",
       "    </tr>\n",
       "    <tr>\n",
       "      <th>1</th>\n",
       "      <td>$ESI on lows, down $1.50 to $2.50 BK a real po...</td>\n",
       "      <td>[]</td>\n",
       "    </tr>\n",
       "    <tr>\n",
       "      <th>2</th>\n",
       "      <td>For the last quarter of 2010 , Componenta 's n...</td>\n",
       "      <td>[EUR76]</td>\n",
       "    </tr>\n",
       "    <tr>\n",
       "      <th>3</th>\n",
       "      <td>According to the Finnish-Russian Chamber of Co...</td>\n",
       "      <td>[]</td>\n",
       "    </tr>\n",
       "    <tr>\n",
       "      <th>4</th>\n",
       "      <td>The Swedish buyout firm has sold its remaining...</td>\n",
       "      <td>[]</td>\n",
       "    </tr>\n",
       "    <tr>\n",
       "      <th>...</th>\n",
       "      <td>...</td>\n",
       "      <td>...</td>\n",
       "    </tr>\n",
       "    <tr>\n",
       "      <th>5650</th>\n",
       "      <td>RISING costs have forced packaging producer Hu...</td>\n",
       "      <td>[Huhtamaki]</td>\n",
       "    </tr>\n",
       "    <tr>\n",
       "      <th>5651</th>\n",
       "      <td>Nordic Walking was first used as a summer trai...</td>\n",
       "      <td>[Nordic Walking]</td>\n",
       "    </tr>\n",
       "    <tr>\n",
       "      <th>5652</th>\n",
       "      <td>According shipping company Viking Line , the E...</td>\n",
       "      <td>[Viking Line]</td>\n",
       "    </tr>\n",
       "    <tr>\n",
       "      <th>5653</th>\n",
       "      <td>In the building and home improvement trade , s...</td>\n",
       "      <td>[]</td>\n",
       "    </tr>\n",
       "    <tr>\n",
       "      <th>5654</th>\n",
       "      <td>HELSINKI AFX - KCI Konecranes said it has won ...</td>\n",
       "      <td>[]</td>\n",
       "    </tr>\n",
       "  </tbody>\n",
       "</table>\n",
       "<p>5655 rows × 2 columns</p>\n",
       "</div>"
      ],
      "text/plain": [
       "                                               Sentence   PeopleInitially\n",
       "0     The GeoSolutions technology will leverage Bene...         [Benefon]\n",
       "1     $ESI on lows, down $1.50 to $2.50 BK a real po...                []\n",
       "2     For the last quarter of 2010 , Componenta 's n...           [EUR76]\n",
       "3     According to the Finnish-Russian Chamber of Co...                []\n",
       "4     The Swedish buyout firm has sold its remaining...                []\n",
       "...                                                 ...               ...\n",
       "5650  RISING costs have forced packaging producer Hu...       [Huhtamaki]\n",
       "5651  Nordic Walking was first used as a summer trai...  [Nordic Walking]\n",
       "5652  According shipping company Viking Line , the E...     [Viking Line]\n",
       "5653  In the building and home improvement trade , s...                []\n",
       "5654  HELSINKI AFX - KCI Konecranes said it has won ...                []\n",
       "\n",
       "[5655 rows x 2 columns]"
      ]
     },
     "execution_count": 139,
     "metadata": {},
     "output_type": "execute_result"
    }
   ],
   "source": [
    "data_cleaned[[\"Sentence\", \"PeopleInitially\"]]"
   ]
  },
  {
   "cell_type": "markdown",
   "metadata": {},
   "source": [
    "Przyjrzyjmy się temu, jakie błędy spacy popełniło przy klasyfikowaniu wyrażeń\n",
    "jako \"PERSON\"."
   ]
  },
  {
   "cell_type": "code",
   "execution_count": 140,
   "metadata": {},
   "outputs": [
    {
     "data": {
      "text/plain": [
       "['Nokia Oyj']"
      ]
     },
     "execution_count": 140,
     "metadata": {},
     "output_type": "execute_result"
    }
   ],
   "source": [
    "sentence = \"A portion , $ 12.5 million , will be recorded as part of its winnings in a prior patent dispute with Finnish phone maker Nokia Oyj .\"\n",
    "find_people_in_text_initially(sentence, nlp)"
   ]
  },
  {
   "cell_type": "code",
   "execution_count": 141,
   "metadata": {},
   "outputs": [
    {
     "data": {
      "text/plain": [
       "['Realprojekti Oy', 'CapMan']"
      ]
     },
     "execution_count": 141,
     "metadata": {},
     "output_type": "execute_result"
    }
   ],
   "source": [
    "sentence = \"Last year , the firm also acquired Realprojekti Oy , a real estate development company , to advise CapMan on its property activities .\"\n",
    "find_people_in_text_initially(sentence, nlp)"
   ]
  },
  {
   "cell_type": "code",
   "execution_count": 142,
   "metadata": {},
   "outputs": [
    {
     "data": {
      "text/plain": [
       "['Raisio Oyj HEL', 'Bunge Ltd NYSE']"
      ]
     },
     "execution_count": 142,
     "metadata": {},
     "output_type": "execute_result"
    }
   ],
   "source": [
    "sentence = \"Finnish food company Raisio Oyj HEL : RAIVV said on Friday it has wrapped up the divestment of its margarine operations to US sector player Bunge Ltd NYSE : BG for EUR80m USD119 .2 m .\"\n",
    "find_people_in_text_initially(sentence, nlp)"
   ]
  },
  {
   "cell_type": "code",
   "execution_count": 143,
   "metadata": {},
   "outputs": [
    {
     "data": {
      "text/plain": [
       "['Invenergy Wind LLC']"
      ]
     },
     "execution_count": 143,
     "metadata": {},
     "output_type": "execute_result"
    }
   ],
   "source": [
    "sentence = \"GE is building the facility with wind power developer Invenergy Wind LLC .\"\n",
    "find_people_in_text_initially(sentence, nlp)"
   ]
  },
  {
   "cell_type": "code",
   "execution_count": 144,
   "metadata": {},
   "outputs": [
    {
     "data": {
      "text/plain": [
       "['GmbH Buyer']"
      ]
     },
     "execution_count": 144,
     "metadata": {},
     "output_type": "execute_result"
    }
   ],
   "source": [
    "sentence = \"Country : ; Germany Sector : Construction-Real Estate ; Machinery-Engineering Target : Caverion GmbH Buyer : YIT Oyj Deal size in USD : 90.3 m Type : Corporate acquisition Status : Agreed\"\n",
    "find_people_in_text_initially(sentence, nlp)"
   ]
  },
  {
   "cell_type": "markdown",
   "metadata": {},
   "source": [
    "W tekstach, które analizujemy spacy klasyfikuje nazwy firmy wraz ze skrótami, takimi jak\n",
    "OY, OYJ, LTD, LLC jako osobę (skróty te oznaczają formy prawno-organizacyjne spółek w \n",
    "różnych językach). Więc nie są to osoby, ale nazwy spółek.\n",
    " Sprawdźmy, jak często zdarzarza się tak w naszych danych."
   ]
  },
  {
   "cell_type": "code",
   "execution_count": 145,
   "metadata": {},
   "outputs": [
    {
     "name": "stdout",
     "output_type": "stream",
     "text": [
      "Number of phrases that are qualified as person and contains 'Oyj': 140\n",
      "Number of phrases that are qualified as person and contains 'Oy': 9\n",
      "Number of phrases that are qualified as person and contains 'Ltd': 2\n",
      "Number of phrases that are qualified as person and contains 'LLC': 1\n",
      "Number of phrases that are qualified as person and contains 'GmbH': 2\n"
     ]
    }
   ],
   "source": [
    "oyj_misclass = (\n",
    "    data_cleaned[\"PeopleInitially\"].apply(\n",
    "        lambda x: any(\"oyj\" in people.lower().split() for people in x)\n",
    "    )\n",
    ").sum()\n",
    "print(\n",
    "    f\"Number of phrases that are qualified as person and contains 'Oyj': {oyj_misclass}\"\n",
    ")\n",
    "\n",
    "oy_misclass = (\n",
    "    data_cleaned[\"PeopleInitially\"].apply(\n",
    "        lambda x: any(\"oy\" in people.lower().split() for people in x)\n",
    "    )\n",
    ").sum()\n",
    "print(\n",
    "    f\"Number of phrases that are qualified as person and contains 'Oy': {oy_misclass}\"\n",
    ")\n",
    "\n",
    "ltd_misclass = (\n",
    "    data_cleaned[\"PeopleInitially\"].apply(\n",
    "        lambda x: any(\"ltd\" in people.lower().split() for people in x)\n",
    "    )\n",
    ").sum()\n",
    "print(\n",
    "    f\"Number of phrases that are qualified as person and contains 'Ltd': {ltd_misclass}\"\n",
    ")\n",
    "\n",
    "llc_misclass = (\n",
    "    data_cleaned[\"PeopleInitially\"].apply(\n",
    "        lambda x: any(\"llc\" in people.lower().split() for people in x)\n",
    "    )\n",
    ").sum()\n",
    "print(\n",
    "    f\"Number of phrases that are qualified as person and contains 'LLC': {llc_misclass}\"\n",
    ")\n",
    "\n",
    "gmbh_misclass = (\n",
    "    data_cleaned[\"PeopleInitially\"].apply(\n",
    "        lambda x: any(\"gmbh\" in people.lower().split() for people in x)\n",
    "    )\n",
    ").sum()\n",
    "print(\n",
    "    f\"Number of phrases that are qualified as person and contains 'GmbH': {gmbh_misclass}\"\n",
    ")"
   ]
  },
  {
   "cell_type": "markdown",
   "metadata": {},
   "source": [
    "Ponadto dużo wyrażeń zakwalifikowanych jako \"PERSON\" składa się \n",
    "z tylko jednego słowa, co nie wydaje się poprawne - takie wyrażenie powinno składać\n",
    "się z 2 słów, czyli imienia i nazwiska."
   ]
  },
  {
   "cell_type": "code",
   "execution_count": 146,
   "metadata": {},
   "outputs": [
    {
     "name": "stdout",
     "output_type": "stream",
     "text": [
      "Example of a phrase which consists of only one word: 605\n"
     ]
    }
   ],
   "source": [
    "one_word_person = sum(\n",
    "    [\n",
    "        len(x.split()) == 1\n",
    "        for x in list(\n",
    "            np.concatenate(data_cleaned[\"PeopleInitially\"].reset_index(drop=True))\n",
    "        )\n",
    "    ]\n",
    ")\n",
    "print(f\"Example of a phrase which consists of only one word: {one_word_person}\")"
   ]
  },
  {
   "cell_type": "markdown",
   "metadata": {},
   "source": [
    "Ulepszymy naszą funkcję znajdującą \"PERSON\". Z wyrażeń zaklasyfikowanych jako \"PERSON\"\n",
    "będziemy usuwać te, które składają się z tylko jednego słowa oraz te, \n",
    "które zawierają skróty OY, OYJ, LTD, LLC, GMBH."
   ]
  },
  {
   "cell_type": "code",
   "execution_count": 147,
   "metadata": {},
   "outputs": [],
   "source": [
    "def find_people_in_text(text: str, nlp) -> list[str]:\n",
    "    \"\"\"\n",
    "    Finds people in text using spacy Named Entity Recognition (NER).\n",
    "    :param text: input text\n",
    "    :param nlp: spacy model\n",
    "    :return: list of people found in text\n",
    "    \"\"\"\n",
    "    text_cleaned = re.sub(r\"\\s+\", \" \", text).strip()\n",
    "\n",
    "    doc = nlp(text_cleaned)\n",
    "\n",
    "    founds_persons = [entity.lemma_ for entity in doc.ents if entity.label_ == \"PERSON\"]\n",
    "\n",
    "    founds_persons_unique = list(set(founds_persons))\n",
    "\n",
    "    founds_persons_unique_filtered = [\n",
    "        person\n",
    "        for person in founds_persons_unique\n",
    "        if (\n",
    "            (\"oyj\" not in person.lower().split())\n",
    "            & (\"oy\" not in person.lower().split())\n",
    "            & (\"llc\" not in person.lower().split())\n",
    "            & (\"ltd\" not in person.lower().split())\n",
    "            & (\"gmbh\" not in person.lower().split())\n",
    "            & (len(person.split()) > 1)\n",
    "        )\n",
    "    ]\n",
    "\n",
    "    return founds_persons_unique_filtered"
   ]
  },
  {
   "cell_type": "code",
   "execution_count": 148,
   "metadata": {},
   "outputs": [],
   "source": [
    "data_cleaned[\"People\"] = data_cleaned[\"Sentence\"].apply(\n",
    "    lambda x: find_people_in_text(x, nlp)\n",
    ")"
   ]
  },
  {
   "cell_type": "code",
   "execution_count": 149,
   "metadata": {},
   "outputs": [
    {
     "data": {
      "text/html": [
       "<div>\n",
       "<style scoped>\n",
       "    .dataframe tbody tr th:only-of-type {\n",
       "        vertical-align: middle;\n",
       "    }\n",
       "\n",
       "    .dataframe tbody tr th {\n",
       "        vertical-align: top;\n",
       "    }\n",
       "\n",
       "    .dataframe thead th {\n",
       "        text-align: right;\n",
       "    }\n",
       "</style>\n",
       "<table border=\"1\" class=\"dataframe\">\n",
       "  <thead>\n",
       "    <tr style=\"text-align: right;\">\n",
       "      <th></th>\n",
       "      <th>Sentence</th>\n",
       "      <th>PeopleInitially</th>\n",
       "      <th>People</th>\n",
       "    </tr>\n",
       "  </thead>\n",
       "  <tbody>\n",
       "    <tr>\n",
       "      <th>0</th>\n",
       "      <td>The GeoSolutions technology will leverage Bene...</td>\n",
       "      <td>[Benefon]</td>\n",
       "      <td>[]</td>\n",
       "    </tr>\n",
       "    <tr>\n",
       "      <th>1</th>\n",
       "      <td>$ESI on lows, down $1.50 to $2.50 BK a real po...</td>\n",
       "      <td>[]</td>\n",
       "      <td>[]</td>\n",
       "    </tr>\n",
       "    <tr>\n",
       "      <th>2</th>\n",
       "      <td>For the last quarter of 2010 , Componenta 's n...</td>\n",
       "      <td>[EUR76]</td>\n",
       "      <td>[]</td>\n",
       "    </tr>\n",
       "    <tr>\n",
       "      <th>3</th>\n",
       "      <td>According to the Finnish-Russian Chamber of Co...</td>\n",
       "      <td>[]</td>\n",
       "      <td>[]</td>\n",
       "    </tr>\n",
       "    <tr>\n",
       "      <th>4</th>\n",
       "      <td>The Swedish buyout firm has sold its remaining...</td>\n",
       "      <td>[]</td>\n",
       "      <td>[]</td>\n",
       "    </tr>\n",
       "    <tr>\n",
       "      <th>...</th>\n",
       "      <td>...</td>\n",
       "      <td>...</td>\n",
       "      <td>...</td>\n",
       "    </tr>\n",
       "    <tr>\n",
       "      <th>5650</th>\n",
       "      <td>RISING costs have forced packaging producer Hu...</td>\n",
       "      <td>[Huhtamaki]</td>\n",
       "      <td>[]</td>\n",
       "    </tr>\n",
       "    <tr>\n",
       "      <th>5651</th>\n",
       "      <td>Nordic Walking was first used as a summer trai...</td>\n",
       "      <td>[Nordic Walking]</td>\n",
       "      <td>[nordic Walking]</td>\n",
       "    </tr>\n",
       "    <tr>\n",
       "      <th>5652</th>\n",
       "      <td>According shipping company Viking Line , the E...</td>\n",
       "      <td>[Viking Line]</td>\n",
       "      <td>[Viking Line]</td>\n",
       "    </tr>\n",
       "    <tr>\n",
       "      <th>5653</th>\n",
       "      <td>In the building and home improvement trade , s...</td>\n",
       "      <td>[]</td>\n",
       "      <td>[]</td>\n",
       "    </tr>\n",
       "    <tr>\n",
       "      <th>5654</th>\n",
       "      <td>HELSINKI AFX - KCI Konecranes said it has won ...</td>\n",
       "      <td>[]</td>\n",
       "      <td>[]</td>\n",
       "    </tr>\n",
       "  </tbody>\n",
       "</table>\n",
       "<p>5655 rows × 3 columns</p>\n",
       "</div>"
      ],
      "text/plain": [
       "                                               Sentence   PeopleInitially  \\\n",
       "0     The GeoSolutions technology will leverage Bene...         [Benefon]   \n",
       "1     $ESI on lows, down $1.50 to $2.50 BK a real po...                []   \n",
       "2     For the last quarter of 2010 , Componenta 's n...           [EUR76]   \n",
       "3     According to the Finnish-Russian Chamber of Co...                []   \n",
       "4     The Swedish buyout firm has sold its remaining...                []   \n",
       "...                                                 ...               ...   \n",
       "5650  RISING costs have forced packaging producer Hu...       [Huhtamaki]   \n",
       "5651  Nordic Walking was first used as a summer trai...  [Nordic Walking]   \n",
       "5652  According shipping company Viking Line , the E...     [Viking Line]   \n",
       "5653  In the building and home improvement trade , s...                []   \n",
       "5654  HELSINKI AFX - KCI Konecranes said it has won ...                []   \n",
       "\n",
       "                People  \n",
       "0                   []  \n",
       "1                   []  \n",
       "2                   []  \n",
       "3                   []  \n",
       "4                   []  \n",
       "...                ...  \n",
       "5650                []  \n",
       "5651  [nordic Walking]  \n",
       "5652     [Viking Line]  \n",
       "5653                []  \n",
       "5654                []  \n",
       "\n",
       "[5655 rows x 3 columns]"
      ]
     },
     "execution_count": 149,
     "metadata": {},
     "output_type": "execute_result"
    }
   ],
   "source": [
    "data_cleaned[[\"Sentence\", \"PeopleInitially\", \"People\"]]"
   ]
  },
  {
   "cell_type": "markdown",
   "metadata": {},
   "source": [
    "Funkcja `find_people_in_text()` nadal dobrze znajduje \"PERSON\" w tekście w wielu przypadkach."
   ]
  },
  {
   "cell_type": "code",
   "execution_count": 150,
   "metadata": {},
   "outputs": [
    {
     "data": {
      "text/plain": [
       "['David Hillier']"
      ]
     },
     "execution_count": 150,
     "metadata": {},
     "output_type": "execute_result"
    }
   ],
   "source": [
    "sentence = \"Insight hires Aviva's David Hillier for multi-asset team\"\n",
    "find_people_in_text(sentence, nlp)"
   ]
  },
  {
   "cell_type": "code",
   "execution_count": 151,
   "metadata": {},
   "outputs": [
    {
     "data": {
      "text/plain": [
       "['Kevin Martin']"
      ]
     },
     "execution_count": 151,
     "metadata": {},
     "output_type": "execute_result"
    }
   ],
   "source": [
    "sentence = \"FCC Chairman Kevin Martin said that fair play required extending the same deregulatory rules to the digital subscriber lines that telecom providers use for broadband networks .\"\n",
    "find_people_in_text(sentence, nlp)"
   ]
  },
  {
   "cell_type": "code",
   "execution_count": 152,
   "metadata": {},
   "outputs": [
    {
     "data": {
      "text/plain": [
       "['Janis Arbidans']"
      ]
     },
     "execution_count": 152,
     "metadata": {},
     "output_type": "execute_result"
    }
   ],
   "source": [
    "sentence = \"Janis Arbidans , CEO of YIT Celtnieciba , said the company was focusing on housing and real estate development market .\"\n",
    "find_people_in_text(sentence, nlp)"
   ]
  },
  {
   "cell_type": "code",
   "execution_count": 153,
   "metadata": {},
   "outputs": [
    {
     "data": {
      "text/plain": [
       "['Steve Jackson']"
      ]
     },
     "execution_count": 153,
     "metadata": {},
     "output_type": "execute_result"
    }
   ],
   "source": [
    "sentence = \"Steve Jackson , eBusiness Analyst at Satama and former CEO of Aboavista said : `` Google broke the mold when they gave away Google Analytics for free .\"\n",
    "find_people_in_text(sentence, nlp)"
   ]
  },
  {
   "cell_type": "markdown",
   "metadata": {},
   "source": [
    "Jednak nadal istnieją przypadki, w których funkcja działa niepoprawnie. "
   ]
  },
  {
   "cell_type": "code",
   "execution_count": 154,
   "metadata": {},
   "outputs": [
    {
     "data": {
      "text/plain": [
       "['nordic Walking']"
      ]
     },
     "execution_count": 154,
     "metadata": {},
     "output_type": "execute_result"
    }
   ],
   "source": [
    "sentence = \"Nordic Walking was first used as a summer training method by cross-country skiers .\"\n",
    "find_people_in_text(sentence, nlp)"
   ]
  },
  {
   "cell_type": "code",
   "execution_count": 155,
   "metadata": {},
   "outputs": [
    {
     "data": {
      "text/plain": [
       "['Galeria Podlaska']"
      ]
     },
     "execution_count": 155,
     "metadata": {},
     "output_type": "execute_result"
    }
   ],
   "source": [
    "sentence = \"Galeria Podlaska , a shopping mall on Wysockiego Street in Bia ` ystok , is approximately 60-percent leased or reserved .\"\n",
    "find_people_in_text(sentence, nlp)"
   ]
  },
  {
   "cell_type": "code",
   "execution_count": 156,
   "metadata": {},
   "outputs": [
    {
     "data": {
      "text/plain": [
       "['https://t.co/devnlkhqtz $GOOGL']"
      ]
     },
     "execution_count": 156,
     "metadata": {},
     "output_type": "execute_result"
    }
   ],
   "source": [
    "sentence = \"Why Alphabet Inc was just upgraded to buy https://t.co/dEVnLKhqtZ $GOOGL\"\n",
    "find_people_in_text(sentence, nlp)"
   ]
  },
  {
   "cell_type": "code",
   "execution_count": 157,
   "metadata": {},
   "outputs": [
    {
     "data": {
      "text/plain": [
       "['Dubai Nokia']"
      ]
     },
     "execution_count": 157,
     "metadata": {},
     "output_type": "execute_result"
    }
   ],
   "source": [
    "sentence = \"Dubai Nokia has announced the launch of `` Comes with Music '' , its ground-breaking service which introduces a new way for people to enjoy music .\"\n",
    "find_people_in_text(sentence, nlp)"
   ]
  },
  {
   "cell_type": "markdown",
   "metadata": {},
   "source": [
    "### Organizations"
   ]
  },
  {
   "cell_type": "code",
   "execution_count": 158,
   "metadata": {},
   "outputs": [],
   "source": [
    "def find_organizations_in_text_initially(text: str, nlp) -> list[str]:\n",
    "    \"\"\"\n",
    "    Finds organizations in text using spacy Named Entity Recognition (NER).\n",
    "    :param text: input text\n",
    "    :param nlp: spacy model\n",
    "    :return: list of organizations found in text\n",
    "    \"\"\"\n",
    "    doc = nlp(text)\n",
    "\n",
    "    founds_organizations = [\n",
    "        entity.lemma_ for entity in doc.ents if entity.label_ == \"ORG\"\n",
    "    ]\n",
    "\n",
    "    return founds_organizations"
   ]
  },
  {
   "cell_type": "code",
   "execution_count": 159,
   "metadata": {},
   "outputs": [
    {
     "data": {
      "text/plain": [
       "['Lloyds']"
      ]
     },
     "execution_count": 159,
     "metadata": {},
     "output_type": "execute_result"
    }
   ],
   "source": [
    "sentence = \"Lloyds to cut 945 jobs as part of three-year restructuring strategy\"\n",
    "find_organizations_in_text_initially(sentence, nlp)"
   ]
  },
  {
   "cell_type": "code",
   "execution_count": 160,
   "metadata": {},
   "outputs": [],
   "source": [
    "data_cleaned[\"OrganizationsInitially\"] = data_cleaned[\"Sentence\"].apply(\n",
    "    lambda x: find_organizations_in_text_initially(x, nlp)\n",
    ")"
   ]
  },
  {
   "cell_type": "code",
   "execution_count": 161,
   "metadata": {},
   "outputs": [
    {
     "data": {
      "text/html": [
       "<div>\n",
       "<style scoped>\n",
       "    .dataframe tbody tr th:only-of-type {\n",
       "        vertical-align: middle;\n",
       "    }\n",
       "\n",
       "    .dataframe tbody tr th {\n",
       "        vertical-align: top;\n",
       "    }\n",
       "\n",
       "    .dataframe thead th {\n",
       "        text-align: right;\n",
       "    }\n",
       "</style>\n",
       "<table border=\"1\" class=\"dataframe\">\n",
       "  <thead>\n",
       "    <tr style=\"text-align: right;\">\n",
       "      <th></th>\n",
       "      <th>Sentence</th>\n",
       "      <th>OrganizationsInitially</th>\n",
       "    </tr>\n",
       "  </thead>\n",
       "  <tbody>\n",
       "    <tr>\n",
       "      <th>0</th>\n",
       "      <td>The GeoSolutions technology will leverage Bene...</td>\n",
       "      <td>[GeoSolutions, Location Based Search Technology]</td>\n",
       "    </tr>\n",
       "    <tr>\n",
       "      <th>1</th>\n",
       "      <td>$ESI on lows, down $1.50 to $2.50 BK a real po...</td>\n",
       "      <td>[ESI, BK]</td>\n",
       "    </tr>\n",
       "    <tr>\n",
       "      <th>2</th>\n",
       "      <td>For the last quarter of 2010 , Componenta 's n...</td>\n",
       "      <td>[EUR7]</td>\n",
       "    </tr>\n",
       "    <tr>\n",
       "      <th>3</th>\n",
       "      <td>According to the Finnish-Russian Chamber of Co...</td>\n",
       "      <td>[]</td>\n",
       "    </tr>\n",
       "    <tr>\n",
       "      <th>4</th>\n",
       "      <td>The Swedish buyout firm has sold its remaining...</td>\n",
       "      <td>[]</td>\n",
       "    </tr>\n",
       "    <tr>\n",
       "      <th>...</th>\n",
       "      <td>...</td>\n",
       "      <td>...</td>\n",
       "    </tr>\n",
       "    <tr>\n",
       "      <th>5650</th>\n",
       "      <td>RISING costs have forced packaging producer Hu...</td>\n",
       "      <td>[]</td>\n",
       "    </tr>\n",
       "    <tr>\n",
       "      <th>5651</th>\n",
       "      <td>Nordic Walking was first used as a summer trai...</td>\n",
       "      <td>[]</td>\n",
       "    </tr>\n",
       "    <tr>\n",
       "      <th>5652</th>\n",
       "      <td>According shipping company Viking Line , the E...</td>\n",
       "      <td>[EU]</td>\n",
       "    </tr>\n",
       "    <tr>\n",
       "      <th>5653</th>\n",
       "      <td>In the building and home improvement trade , s...</td>\n",
       "      <td>[]</td>\n",
       "    </tr>\n",
       "    <tr>\n",
       "      <th>5654</th>\n",
       "      <td>HELSINKI AFX - KCI Konecranes said it has won ...</td>\n",
       "      <td>[Bhushan Steel, Strips Ltd.]</td>\n",
       "    </tr>\n",
       "  </tbody>\n",
       "</table>\n",
       "<p>5655 rows × 2 columns</p>\n",
       "</div>"
      ],
      "text/plain": [
       "                                               Sentence  \\\n",
       "0     The GeoSolutions technology will leverage Bene...   \n",
       "1     $ESI on lows, down $1.50 to $2.50 BK a real po...   \n",
       "2     For the last quarter of 2010 , Componenta 's n...   \n",
       "3     According to the Finnish-Russian Chamber of Co...   \n",
       "4     The Swedish buyout firm has sold its remaining...   \n",
       "...                                                 ...   \n",
       "5650  RISING costs have forced packaging producer Hu...   \n",
       "5651  Nordic Walking was first used as a summer trai...   \n",
       "5652  According shipping company Viking Line , the E...   \n",
       "5653  In the building and home improvement trade , s...   \n",
       "5654  HELSINKI AFX - KCI Konecranes said it has won ...   \n",
       "\n",
       "                                OrganizationsInitially  \n",
       "0     [GeoSolutions, Location Based Search Technology]  \n",
       "1                                            [ESI, BK]  \n",
       "2                                               [EUR7]  \n",
       "3                                                   []  \n",
       "4                                                   []  \n",
       "...                                                ...  \n",
       "5650                                                []  \n",
       "5651                                                []  \n",
       "5652                                              [EU]  \n",
       "5653                                                []  \n",
       "5654                      [Bhushan Steel, Strips Ltd.]  \n",
       "\n",
       "[5655 rows x 2 columns]"
      ]
     },
     "execution_count": 161,
     "metadata": {},
     "output_type": "execute_result"
    }
   ],
   "source": [
    "data_cleaned[[\"Sentence\", \"OrganizationsInitially\"]]"
   ]
  },
  {
   "cell_type": "markdown",
   "metadata": {},
   "source": [
    "Przykład poprawnego działa funkcji `find_organizations_in_text_initially()`:"
   ]
  },
  {
   "cell_type": "code",
   "execution_count": 162,
   "metadata": {},
   "outputs": [
    {
     "data": {
      "text/plain": [
       "['tesco']"
      ]
     },
     "execution_count": 162,
     "metadata": {},
     "output_type": "execute_result"
    }
   ],
   "source": [
    "sentence = \"Tesco share price jumps as Q3 sales top estimates\"\n",
    "find_organizations_in_text_initially(sentence, nlp)"
   ]
  },
  {
   "cell_type": "code",
   "execution_count": 163,
   "metadata": {},
   "outputs": [
    {
     "data": {
      "text/plain": [
       "['the Detroit Free Press', 'the Detroit News']"
      ]
     },
     "execution_count": 163,
     "metadata": {},
     "output_type": "execute_result"
    }
   ],
   "source": [
    "sentence = \"`` I 'm trying to deal with slavery from a different perspective to balance the story , '' says DeRamus , formerly a writer at the Detroit Free Press and the Detroit News .\"\n",
    "find_organizations_in_text_initially(sentence, nlp)"
   ]
  },
  {
   "cell_type": "code",
   "execution_count": 164,
   "metadata": {},
   "outputs": [
    {
     "data": {
      "text/plain": [
       "['INTERNET BUSINESS NEWS - -®', 'Barclays Bank']"
      ]
     },
     "execution_count": 164,
     "metadata": {},
     "output_type": "execute_result"
    }
   ],
   "source": [
    "sentence = \"INTERNET BUSINESS NEWS - -® 1995-2006 M2 COMMUNICATIONS LTD As part of a drive to protect users of its Internet banking service , Barclays Bank has announced that it is to recommend F-Secure Internet Security to its customers .\"\n",
    "find_organizations_in_text_initially(sentence, nlp)"
   ]
  },
  {
   "cell_type": "code",
   "execution_count": 165,
   "metadata": {},
   "outputs": [
    {
     "data": {
      "text/plain": [
       "['the Marubeni Group']"
      ]
     },
     "execution_count": 165,
     "metadata": {},
     "output_type": "execute_result"
    }
   ],
   "source": [
    "sentence = \"The Marubeni Group focuses on creating `` value chain '' from upstream to downstream , encompassing a wide variety of business fields , including oil & gas , metals , mineral resources , foods , pulp & paper and chemicals , among others .\"\n",
    "find_organizations_in_text_initially(sentence, nlp)"
   ]
  },
  {
   "cell_type": "markdown",
   "metadata": {},
   "source": [
    "Jednak istnieją teksty, dla których funkcja `find_organizations_in_text_initially()`\n",
    "niepoprawnie znajduje nazwy organizacji:"
   ]
  },
  {
   "cell_type": "code",
   "execution_count": 166,
   "metadata": {},
   "outputs": [
    {
     "data": {
      "text/plain": [
       "['EUR7']"
      ]
     },
     "execution_count": 166,
     "metadata": {},
     "output_type": "execute_result"
    }
   ],
   "source": [
    "sentence = \"For the last quarter of 2010 , Componenta 's net sales doubled to EUR131m from EUR76m for the same period a year earlier , while it moved to a zero pre-tax profit from a pre-tax loss of EUR7m .\"\n",
    "find_organizations_in_text_initially(sentence, nlp)"
   ]
  },
  {
   "cell_type": "code",
   "execution_count": 167,
   "metadata": {},
   "outputs": [
    {
     "data": {
      "text/plain": [
       "['Oborniki']"
      ]
     },
     "execution_count": 167,
     "metadata": {},
     "output_type": "execute_result"
    }
   ],
   "source": [
    "sentence = \"The company also said that in Poland a profitability program has been launched at the Oborniki steel frame and sandwich panel plant .\"\n",
    "find_organizations_in_text_initially(sentence, nlp)"
   ]
  },
  {
   "cell_type": "code",
   "execution_count": 168,
   "metadata": {},
   "outputs": [
    {
     "data": {
      "text/plain": [
       "['Apollo User Group',\n",
       " 'Category Management Association Conferences',\n",
       " 'Combines Business Intelligence with Space Planning Data',\n",
       " 'Conferences']"
      ]
     },
     "execution_count": 168,
     "metadata": {},
     "output_type": "execute_result"
    }
   ],
   "source": [
    "sentence = \"Aldata to Share Space Optimization Vision at Apollo User Group and 2009 Category Management Association Conferences ; Company Will Unveil New Solution that Combines Business Intelligence with Space Planning Data at Conferences.\"\n",
    "find_organizations_in_text_initially(sentence, nlp)"
   ]
  },
  {
   "cell_type": "code",
   "execution_count": 169,
   "metadata": {},
   "outputs": [
    {
     "data": {
      "text/plain": [
       "['EPS']"
      ]
     },
     "execution_count": 169,
     "metadata": {},
     "output_type": "execute_result"
    }
   ],
   "source": [
    "sentence = \"Earnings per share ( EPS ) amounted to a loss of to EUR0 .06 .\"\n",
    "find_organizations_in_text_initially(sentence, nlp)"
   ]
  },
  {
   "cell_type": "markdown",
   "metadata": {},
   "source": [
    "Usprawnimy naszą funkcję poprzez filtrowanie nazw organizacji.\n",
    "Odrzucimy wyrażenia, które zawierają \"EUR\" (prawodopodobnie to cena) oraz \"EPS\" \n",
    "(EPS - earnings per share), ponieważ jest to częsty błąd popełniany przez model spacy."
   ]
  },
  {
   "cell_type": "code",
   "execution_count": 170,
   "metadata": {},
   "outputs": [],
   "source": [
    "def find_organizations_in_text(text: str, nlp) -> list[str]:\n",
    "    \"\"\"\n",
    "    Finds organizations in text using spacy Named Entity Recognition (NER).\n",
    "    :param text: input text\n",
    "    :param nlp: spacy model\n",
    "    :return: list of organizations found in text\n",
    "    \"\"\"\n",
    "    doc = nlp(text)\n",
    "\n",
    "    found_organizations = [\n",
    "        entity.lemma_ for entity in doc.ents if entity.label_ == \"ORG\"\n",
    "    ]\n",
    "\n",
    "    found_organizations = [\n",
    "        org for org in found_organizations if (\"eur\" not in org.lower())\n",
    "    ]\n",
    "\n",
    "    found_organizations = [\n",
    "        org for org in found_organizations if (\"eps\" not in org.lower())\n",
    "    ]\n",
    "\n",
    "    found_organizations_unique = list(set(found_organizations))\n",
    "\n",
    "    return found_organizations_unique"
   ]
  },
  {
   "cell_type": "code",
   "execution_count": 171,
   "metadata": {},
   "outputs": [],
   "source": [
    "data_cleaned[\"Organizations\"] = data_cleaned[\"Sentence\"].apply(\n",
    "    lambda x: find_prices_in_text(x, nlp)\n",
    ")"
   ]
  },
  {
   "cell_type": "code",
   "execution_count": 172,
   "metadata": {},
   "outputs": [
    {
     "data": {
      "text/html": [
       "<div>\n",
       "<style scoped>\n",
       "    .dataframe tbody tr th:only-of-type {\n",
       "        vertical-align: middle;\n",
       "    }\n",
       "\n",
       "    .dataframe tbody tr th {\n",
       "        vertical-align: top;\n",
       "    }\n",
       "\n",
       "    .dataframe thead th {\n",
       "        text-align: right;\n",
       "    }\n",
       "</style>\n",
       "<table border=\"1\" class=\"dataframe\">\n",
       "  <thead>\n",
       "    <tr style=\"text-align: right;\">\n",
       "      <th></th>\n",
       "      <th>Sentence</th>\n",
       "      <th>OrganizationsInitially</th>\n",
       "      <th>Organizations</th>\n",
       "    </tr>\n",
       "  </thead>\n",
       "  <tbody>\n",
       "    <tr>\n",
       "      <th>0</th>\n",
       "      <td>The GeoSolutions technology will leverage Bene...</td>\n",
       "      <td>[GeoSolutions, Location Based Search Technology]</td>\n",
       "      <td>[]</td>\n",
       "    </tr>\n",
       "    <tr>\n",
       "      <th>1</th>\n",
       "      <td>$ESI on lows, down $1.50 to $2.50 BK a real po...</td>\n",
       "      <td>[ESI, BK]</td>\n",
       "      <td>[2.50, 1.50]</td>\n",
       "    </tr>\n",
       "    <tr>\n",
       "      <th>2</th>\n",
       "      <td>For the last quarter of 2010 , Componenta 's n...</td>\n",
       "      <td>[EUR7]</td>\n",
       "      <td>[EUR76m, EUR131m, EUR7m]</td>\n",
       "    </tr>\n",
       "    <tr>\n",
       "      <th>3</th>\n",
       "      <td>According to the Finnish-Russian Chamber of Co...</td>\n",
       "      <td>[]</td>\n",
       "      <td>[]</td>\n",
       "    </tr>\n",
       "    <tr>\n",
       "      <th>4</th>\n",
       "      <td>The Swedish buyout firm has sold its remaining...</td>\n",
       "      <td>[]</td>\n",
       "      <td>[]</td>\n",
       "    </tr>\n",
       "    <tr>\n",
       "      <th>...</th>\n",
       "      <td>...</td>\n",
       "      <td>...</td>\n",
       "      <td>...</td>\n",
       "    </tr>\n",
       "    <tr>\n",
       "      <th>5650</th>\n",
       "      <td>RISING costs have forced packaging producer Hu...</td>\n",
       "      <td>[]</td>\n",
       "      <td>[]</td>\n",
       "    </tr>\n",
       "    <tr>\n",
       "      <th>5651</th>\n",
       "      <td>Nordic Walking was first used as a summer trai...</td>\n",
       "      <td>[]</td>\n",
       "      <td>[]</td>\n",
       "    </tr>\n",
       "    <tr>\n",
       "      <th>5652</th>\n",
       "      <td>According shipping company Viking Line , the E...</td>\n",
       "      <td>[EU]</td>\n",
       "      <td>[]</td>\n",
       "    </tr>\n",
       "    <tr>\n",
       "      <th>5653</th>\n",
       "      <td>In the building and home improvement trade , s...</td>\n",
       "      <td>[]</td>\n",
       "      <td>[EUR 201.4 mn]</td>\n",
       "    </tr>\n",
       "    <tr>\n",
       "      <th>5654</th>\n",
       "      <td>HELSINKI AFX - KCI Konecranes said it has won ...</td>\n",
       "      <td>[Bhushan Steel, Strips Ltd.]</td>\n",
       "      <td>[]</td>\n",
       "    </tr>\n",
       "  </tbody>\n",
       "</table>\n",
       "<p>5655 rows × 3 columns</p>\n",
       "</div>"
      ],
      "text/plain": [
       "                                               Sentence  \\\n",
       "0     The GeoSolutions technology will leverage Bene...   \n",
       "1     $ESI on lows, down $1.50 to $2.50 BK a real po...   \n",
       "2     For the last quarter of 2010 , Componenta 's n...   \n",
       "3     According to the Finnish-Russian Chamber of Co...   \n",
       "4     The Swedish buyout firm has sold its remaining...   \n",
       "...                                                 ...   \n",
       "5650  RISING costs have forced packaging producer Hu...   \n",
       "5651  Nordic Walking was first used as a summer trai...   \n",
       "5652  According shipping company Viking Line , the E...   \n",
       "5653  In the building and home improvement trade , s...   \n",
       "5654  HELSINKI AFX - KCI Konecranes said it has won ...   \n",
       "\n",
       "                                OrganizationsInitially  \\\n",
       "0     [GeoSolutions, Location Based Search Technology]   \n",
       "1                                            [ESI, BK]   \n",
       "2                                               [EUR7]   \n",
       "3                                                   []   \n",
       "4                                                   []   \n",
       "...                                                ...   \n",
       "5650                                                []   \n",
       "5651                                                []   \n",
       "5652                                              [EU]   \n",
       "5653                                                []   \n",
       "5654                      [Bhushan Steel, Strips Ltd.]   \n",
       "\n",
       "                 Organizations  \n",
       "0                           []  \n",
       "1                 [2.50, 1.50]  \n",
       "2     [EUR76m, EUR131m, EUR7m]  \n",
       "3                           []  \n",
       "4                           []  \n",
       "...                        ...  \n",
       "5650                        []  \n",
       "5651                        []  \n",
       "5652                        []  \n",
       "5653            [EUR 201.4 mn]  \n",
       "5654                        []  \n",
       "\n",
       "[5655 rows x 3 columns]"
      ]
     },
     "execution_count": 172,
     "metadata": {},
     "output_type": "execute_result"
    }
   ],
   "source": [
    "data_cleaned[[\"Sentence\", \"OrganizationsInitially\", \"Organizations\"]]"
   ]
  },
  {
   "cell_type": "markdown",
   "metadata": {},
   "source": [
    "Zbieramy wszystkie powyższe funkcje wyszukujące NER w jedną."
   ]
  },
  {
   "cell_type": "code",
   "execution_count": 173,
   "metadata": {},
   "outputs": [],
   "source": [
    "def add_features(data: pd.DataFrame, text_column: str, nlp) -> pd.DataFrame:\n",
    "    \"\"\"\n",
    "    Add new features to data based on NER.\n",
    "    :param data: Pandas DataFrame containing data with 'text_column'\n",
    "    :param text_column: name of column containing text\n",
    "    :param nlp: spacy model\n",
    "    :return: Pandas DataFrame containing data with extracted features\n",
    "    \"\"\"\n",
    "    data[\"PeopleInitially\"] = data[text_column].apply(\n",
    "        lambda txt: find_people_in_text_initially(txt, nlp)\n",
    "    )\n",
    "    data[\"People\"] = data[text_column].apply(lambda txt: find_people_in_text(txt, nlp))\n",
    "\n",
    "    data[\"OrganizationsInitially\"] = data[text_column].apply(\n",
    "        lambda txt: find_organizations_in_text_initially(txt, nlp)\n",
    "    )\n",
    "    data[\"Organizations\"] = data[text_column].apply(\n",
    "        lambda txt: find_organizations_in_text(txt, nlp)\n",
    "    )\n",
    "\n",
    "    data[\"PricesInitially\"] = data[text_column].apply(\n",
    "        lambda txt: find_prices_in_text_initially(txt, nlp)\n",
    "    )\n",
    "    data[\"Prices\"] = data[text_column].apply(lambda txt: find_prices_in_text(txt, nlp))\n",
    "\n",
    "    return data"
   ]
  },
  {
   "cell_type": "markdown",
   "metadata": {},
   "source": [
    "## Pipeline"
   ]
  },
  {
   "cell_type": "markdown",
   "metadata": {},
   "source": [
    "Poniższy pipeline korzysta ze wszystkich powyższych funkcji. Generuje on datasety zawierające\n",
    "reprezentację numeryczną tekstów z kolumny \"Sentence\" oraz nowe kolumny zawierające wyszukane\n",
    "NER. Inputy te mogą zostać wykorzystane przez modele ML, których zadaniem będzie predykcja sentymentu."
   ]
  },
  {
   "cell_type": "code",
   "execution_count": 179,
   "metadata": {},
   "outputs": [
    {
     "name": "stdout",
     "output_type": "stream",
     "text": [
      "Loading data...\n",
      "Word embedding...\n",
      "Saving new data...\n"
     ]
    }
   ],
   "source": [
    "if __name__ == \"__main__\":\n",
    "\n",
    "    nlp = spacy.load(\"en_core_web_sm\")\n",
    "\n",
    "    print(\"Loading data...\")\n",
    "    data_cleaned = pd.read_csv(\n",
    "        r\"data/FinancialNewsPreprocessed.csv\", index_col=0\n",
    "    ).reset_index(drop=True)\n",
    "\n",
    "    print(\"Word embedding...\")\n",
    "    spacy_word_embedding_data = spacy_embedding(\n",
    "        data_cleaned,\n",
    "        \"PreprocessedSentence\",\n",
    "        [\"Sentence\", \"PreprocessedSentence\", \"Sentiment\"],\n",
    "        nlp,\n",
    "    )\n",
    "\n",
    "    word2vec_word_embedding_data = word2vec_embedding(\n",
    "        data_cleaned,\n",
    "        \"PreprocessedSentence\",\n",
    "        [\"Sentence\", \"PreprocessedSentence\", \"Sentiment\"],\n",
    "    )\n",
    "\n",
    "    print(\"Saving new data...\")\n",
    "    spacy_word_embedding_data.to_csv(r\"data/FinancialNewsSpacyWordEmbeddings.csv\")\n",
    "    word2vec_word_embedding_data.to_csv(r\"data/FinancialNewsWord2VecWordEmbeddings.csv\")\n",
    "\n",
    "    print(\"EDA...\")\n",
    "    create_barplots_for_pos(data_cleaned, \"PreprocessedSentence\", nlp)\n",
    "\n",
    "    print(\"Adding new features...\")\n",
    "    data_features = add_features(data_cleaned, \"Sentence\", nlp)\n",
    "\n",
    "    print(\"Saving new features...\")\n",
    "    data_features.to_csv(\"data\\FinancialNewsEntityRecognition.csv\")"
   ]
  }
 ],
 "metadata": {
  "kernelspec": {
   "display_name": "core",
   "language": "python",
   "name": "python3"
  },
  "language_info": {
   "codemirror_mode": {
    "name": "ipython",
    "version": 3
   },
   "file_extension": ".py",
   "mimetype": "text/x-python",
   "name": "python",
   "nbconvert_exporter": "python",
   "pygments_lexer": "ipython3",
   "version": "3.9.13"
  },
  "orig_nbformat": 4
 },
 "nbformat": 4,
 "nbformat_minor": 2
}
