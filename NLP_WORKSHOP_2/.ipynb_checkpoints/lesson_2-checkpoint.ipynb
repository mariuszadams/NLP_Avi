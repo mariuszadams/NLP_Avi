{
 "cells": [
  {
   "cell_type": "markdown",
   "metadata": {},
   "source": [
    "# Text Preprocessing - Financial Sentiment Analysis\n",
    "\n",
    "This notebook is a step-by-step review of a text preprocessing functions used as a initial step of sentiment analysis."
   ]
  },
  {
   "cell_type": "code",
   "execution_count": 1,
   "metadata": {},
   "outputs": [],
   "source": [
    "import spacy\n",
    "import re\n",
    "import pandas as pd\n",
    "import contractions\n",
    "import os\n",
    "from spacy.language import Language\n",
    "from spacy_langdetect import LanguageDetector"
   ]
  },
  {
   "cell_type": "markdown",
   "metadata": {},
   "source": [
    "# Exploratory input data analysis\n",
    "\n"
   ]
  },
  {
   "cell_type": "code",
   "execution_count": 2,
   "metadata": {},
   "outputs": [],
   "source": [
    "data = pd.read_parquet(\"data/FinancialNews.parquet\")"
   ]
  },
  {
   "cell_type": "code",
   "execution_count": 3,
   "metadata": {},
   "outputs": [
    {
     "name": "stdout",
     "output_type": "stream",
     "text": [
      "(5842, 2)\n"
     ]
    },
    {
     "data": {
      "text/html": [
       "<div>\n",
       "<style scoped>\n",
       "    .dataframe tbody tr th:only-of-type {\n",
       "        vertical-align: middle;\n",
       "    }\n",
       "\n",
       "    .dataframe tbody tr th {\n",
       "        vertical-align: top;\n",
       "    }\n",
       "\n",
       "    .dataframe thead th {\n",
       "        text-align: right;\n",
       "    }\n",
       "</style>\n",
       "<table border=\"1\" class=\"dataframe\">\n",
       "  <thead>\n",
       "    <tr style=\"text-align: right;\">\n",
       "      <th></th>\n",
       "      <th>Sentence</th>\n",
       "      <th>Sentiment</th>\n",
       "    </tr>\n",
       "  </thead>\n",
       "  <tbody>\n",
       "    <tr>\n",
       "      <th>0</th>\n",
       "      <td>The GeoSolutions technology will leverage Bene...</td>\n",
       "      <td>positive</td>\n",
       "    </tr>\n",
       "    <tr>\n",
       "      <th>1</th>\n",
       "      <td>$ESI on lows, down $1.50 to $2.50 BK a real po...</td>\n",
       "      <td>negative</td>\n",
       "    </tr>\n",
       "    <tr>\n",
       "      <th>2</th>\n",
       "      <td>For the last quarter of 2010 , Componenta 's n...</td>\n",
       "      <td>positive</td>\n",
       "    </tr>\n",
       "    <tr>\n",
       "      <th>3</th>\n",
       "      <td>According to the Finnish-Russian Chamber of Co...</td>\n",
       "      <td>neutral</td>\n",
       "    </tr>\n",
       "    <tr>\n",
       "      <th>4</th>\n",
       "      <td>The Swedish buyout firm has sold its remaining...</td>\n",
       "      <td>neutral</td>\n",
       "    </tr>\n",
       "  </tbody>\n",
       "</table>\n",
       "</div>"
      ],
      "text/plain": [
       "                                            Sentence Sentiment\n",
       "0  The GeoSolutions technology will leverage Bene...  positive\n",
       "1  $ESI on lows, down $1.50 to $2.50 BK a real po...  negative\n",
       "2  For the last quarter of 2010 , Componenta 's n...  positive\n",
       "3  According to the Finnish-Russian Chamber of Co...   neutral\n",
       "4  The Swedish buyout firm has sold its remaining...   neutral"
      ]
     },
     "execution_count": 3,
     "metadata": {},
     "output_type": "execute_result"
    }
   ],
   "source": [
    "print(data.shape)\n",
    "data.head(5)"
   ]
  },
  {
   "cell_type": "code",
   "execution_count": 4,
   "metadata": {},
   "outputs": [
    {
     "data": {
      "text/plain": [
       "Sentence     Circulation revenue has increased by 5 % in Finland and 4 % in Sweden in 2008 .\n",
       "Sentiment                                                                           positive\n",
       "Name: 10, dtype: object"
      ]
     },
     "execution_count": 4,
     "metadata": {},
     "output_type": "execute_result"
    }
   ],
   "source": [
    "# Sentences examples\n",
    "pd.set_option(\"display.max_colwidth\", None)\n",
    "data.iloc[10, :]"
   ]
  },
  {
   "cell_type": "code",
   "execution_count": 5,
   "metadata": {},
   "outputs": [
    {
     "data": {
      "text/plain": [
       "<Axes: xlabel='Sentiment'>"
      ]
     },
     "execution_count": 5,
     "metadata": {},
     "output_type": "execute_result"
    },
    {
     "data": {
      "image/png": "[encoded data removed]",
      "text/plain": [
       "<Figure size 640x480 with 1 Axes>"
      ]
     },
     "metadata": {},
     "output_type": "display_data"
    }
   ],
   "source": [
    "# Sentiment feature - number of occurences\n",
    "data[\"Sentiment\"].value_counts().plot(kind=\"bar\")"
   ]
  },
  {
   "cell_type": "markdown",
   "metadata": {},
   "source": [
    "# Text cleaning"
   ]
  },
  {
   "cell_type": "code",
   "execution_count": 6,
   "metadata": {},
   "outputs": [
    {
     "name": "stdout",
     "output_type": "stream",
     "text": [
      "Number of unique chars: 119\n",
      "['T' 'h' 'e' ' ' 'G' 'o' 'S' 'l' 'u' 't' 'i' 'n' 's' 'c' 'g' 'y' 'w' 'v'\n",
      " 'r' 'a' 'B' 'f' \"'\" 'P' 'b' 'p' 'd' 'L' ',' 'C' 'm' '.' '$' 'E' 'I' '1'\n",
      " '5' '0' '2' 'K' 'F' 'q' 'U' 'R' '3' '7' '6' 'z' '-' 'x' 'A' 'j' '4' 'k'\n",
      " 'Y' 'D' 'M' 'H' 'O' 'N' 'X' '8' ':' '%' 'Q' '#' '?' '/' '9' 'V' '+' 'ñ'\n",
      " 'J' '`' 'W' '@' '&' '(' ')' 'Z' 'ú' '!' '>' 'ó' 'Â' '£' '\"' ';' 'à' '®'\n",
      " '¦' '=' 'ä' 'â' '€' '“' 'Ã' '¶' 'Ñ' '_' '📈' 'é' '…' '”' '^' 'á' '«' '|'\n",
      " '[' ']' '~' '{' '}' '¼' '¬' 'í' '<' 'Á' '’']\n"
     ]
    }
   ],
   "source": [
    "# Unique chars\n",
    "unique_chars = pd.Series(\n",
    "    [char for sentence in data[\"Sentence\"] for char in sentence]\n",
    ").unique()\n",
    "print(\"Number of unique chars:\", len(unique_chars))\n",
    "print(unique_chars)"
   ]
  },
  {
   "cell_type": "code",
   "execution_count": 7,
   "metadata": {},
   "outputs": [],
   "source": [
    "def clean_text(text: str) -> str:\n",
    "    \"\"\"\n",
    "    Cleans input text by lowercasing and removing punctuation.\n",
    "\n",
    "    :param text: An input string to be cleaned\n",
    "    :return: Cleaned string\n",
    "    \"\"\"\n",
    "\n",
    "    text = text.lower()\n",
    "\n",
    "    print(\"Lower case\")\n",
    "    print(text)\n",
    "\n",
    "    text = re.compile(r\"https?://\\S+|www\\.\\S+\").sub(\"\", text)\n",
    "\n",
    "    print()\n",
    "    print(\"Links\")\n",
    "    print(text)\n",
    "\n",
    "    desired_elements = r\"[^a-z\\?\\!\\'\\ ]\"\n",
    "    text = re.sub(desired_elements, \"\", text)\n",
    "\n",
    "    print()\n",
    "    print(\"Desired signs\")\n",
    "    print(text)\n",
    "\n",
    "    text = \" \".join([contractions.fix(word) for word in text.split()])\n",
    "\n",
    "    print()\n",
    "    print(\"Contractions\")\n",
    "    print(text)\n",
    "\n",
    "    replacements = {\n",
    "        r\"'s\\b\": \"\",\n",
    "        r\"\\s+\": \" \",\n",
    "    }\n",
    "\n",
    "    for replace, by in replacements.items():\n",
    "        text = re.sub(replace, by, text)\n",
    "\n",
    "    print()\n",
    "    print(\"Space and 's\")\n",
    "\n",
    "    return text.strip()"
   ]
  },
  {
   "cell_type": "code",
   "execution_count": 8,
   "metadata": {},
   "outputs": [
    {
     "name": "stdout",
     "output_type": "stream",
     "text": [
      "Lower case\n",
      "the company plans to increase the unit's specialist staff to several dozen -- it's going to depend on the market situation during 2010 . we're happy for that. check https://t.co/jndphllzq5 for more!\n",
      "\n",
      "Links\n",
      "the company plans to increase the unit's specialist staff to several dozen -- it's going to depend on the market situation during 2010 . we're happy for that. check  for more!\n",
      "\n",
      "Desired signs\n",
      "the company plans to increase the unit's specialist staff to several dozen  it's going to depend on the market situation during   we're happy for that check  for more!\n",
      "\n",
      "Contractions\n",
      "the company plans to increase the unit's specialist staff to several dozen it is going to depend on the market situation during we are happy for that check for more!\n",
      "\n",
      "Space and 's\n"
     ]
    },
    {
     "data": {
      "text/plain": [
       "'the company plans to increase the unit specialist staff to several dozen it is going to depend on the market situation during we are happy for that check for more!'"
      ]
     },
     "execution_count": 8,
     "metadata": {},
     "output_type": "execute_result"
    }
   ],
   "source": [
    "initial_sentence = \"The company plans to increase the unit's specialist staff to several dozen -- it's going to depend on the market situation during 2010 . We're happy for that. Check https://t.co/jNDphllzq5 for more!\"\n",
    "example_sentence = clean_text(initial_sentence)\n",
    "example_sentence"
   ]
  },
  {
   "cell_type": "code",
   "execution_count": 9,
   "metadata": {},
   "outputs": [
    {
     "name": "stdout",
     "output_type": "stream",
     "text": [
      "The GeoSolutions technology will leverage Benefon 's GPS solutions by providing Location Based Search Technology , a Communities Platform , location relevant multimedia content and a new and powerful commercial model .\n",
      "\n",
      "Lower case\n",
      "the geosolutions technology will leverage benefon 's gps solutions by providing location based search technology , a communities platform , location relevant multimedia content and a new and powerful commercial model .\n",
      "\n",
      "Links\n",
      "the geosolutions technology will leverage benefon 's gps solutions by providing location based search technology , a communities platform , location relevant multimedia content and a new and powerful commercial model .\n",
      "\n",
      "Desired signs\n",
      "the geosolutions technology will leverage benefon 's gps solutions by providing location based search technology  a communities platform  location relevant multimedia content and a new and powerful commercial model \n",
      "\n",
      "Contractions\n",
      "the geosolutions technology will leverage benefon 's gps solutions by providing location based search technology a communities platform location relevant multimedia content and a new and powerful commercial model\n",
      "\n",
      "Space and 's\n"
     ]
    },
    {
     "data": {
      "text/plain": [
       "'the geosolutions technology will leverage benefon gps solutions by providing location based search technology a communities platform location relevant multimedia content and a new and powerful commercial model'"
      ]
     },
     "execution_count": 9,
     "metadata": {},
     "output_type": "execute_result"
    }
   ],
   "source": [
    "print(data[\"Sentence\"][0])\n",
    "print()\n",
    "clean_text(data[\"Sentence\"][0])"
   ]
  },
  {
   "cell_type": "code",
   "execution_count": 10,
   "metadata": {},
   "outputs": [
    {
     "name": "stdout",
     "output_type": "stream",
     "text": [
      "The Swedish buyout firm has sold its remaining 22.4 percent stake , almost eighteen months after taking the company public in Finland .\n",
      "\n",
      "Lower case\n",
      "the swedish buyout firm has sold its remaining 22.4 percent stake , almost eighteen months after taking the company public in finland .\n",
      "\n",
      "Links\n",
      "the swedish buyout firm has sold its remaining 22.4 percent stake , almost eighteen months after taking the company public in finland .\n",
      "\n",
      "Desired signs\n",
      "the swedish buyout firm has sold its remaining  percent stake  almost eighteen months after taking the company public in finland \n",
      "\n",
      "Contractions\n",
      "the swedish buyout firm has sold its remaining percent stake almost eighteen months after taking the company public in finland\n",
      "\n",
      "Space and 's\n"
     ]
    },
    {
     "data": {
      "text/plain": [
       "'the swedish buyout firm has sold its remaining percent stake almost eighteen months after taking the company public in finland'"
      ]
     },
     "execution_count": 10,
     "metadata": {},
     "output_type": "execute_result"
    }
   ],
   "source": [
    "print(data[\"Sentence\"][4])\n",
    "print()\n",
    "clean_text(data[\"Sentence\"][4])"
   ]
  },
  {
   "cell_type": "markdown",
   "metadata": {},
   "source": [
    "# Tokenization"
   ]
  },
  {
   "cell_type": "code",
   "execution_count": 11,
   "metadata": {},
   "outputs": [],
   "source": [
    "nlp = spacy.load(\"en_core_web_sm\")"
   ]
  },
  {
   "cell_type": "code",
   "execution_count": 12,
   "metadata": {},
   "outputs": [
    {
     "data": {
      "text/plain": [
       "<spacy_langdetect.spacy_langdetect.LanguageDetector at 0x16bc2a0c580>"
      ]
     },
     "execution_count": 12,
     "metadata": {},
     "output_type": "execute_result"
    }
   ],
   "source": [
    "@Language.factory(\"language_detector\")\n",
    "def create_language_detector(nlp, name):\n",
    "    return LanguageDetector()  # Create the detector component\n",
    "\n",
    "\n",
    "# Add language detector component\n",
    "nlp.add_pipe(\"language_detector\", last=True)"
   ]
  },
  {
   "cell_type": "code",
   "execution_count": 13,
   "metadata": {},
   "outputs": [],
   "source": [
    "def tokenize_text(text: str, nlp):\n",
    "    \"\"\"\n",
    "    Tokenizes the input text by splitting it into words.\n",
    "\n",
    "    :param text: An input string to be tokenized\n",
    "    :param nlp: A SpaCy model\n",
    "    :return: An array of tokens\n",
    "    \"\"\"\n",
    "    doc = nlp(text)\n",
    "\n",
    "    return doc"
   ]
  },
  {
   "cell_type": "code",
   "execution_count": 14,
   "metadata": {},
   "outputs": [
    {
     "data": {
      "text/plain": [
       "the company plans to increase the unit specialist staff to several dozen it is going to depend on the market situation during we are happy for that check for more!"
      ]
     },
     "execution_count": 14,
     "metadata": {},
     "output_type": "execute_result"
    }
   ],
   "source": [
    "doc = tokenize_text(example_sentence, nlp)\n",
    "doc"
   ]
  },
  {
   "cell_type": "code",
   "execution_count": 15,
   "metadata": {},
   "outputs": [
    {
     "name": "stdout",
     "output_type": "stream",
     "text": [
      "the\n",
      "company\n",
      "plans\n",
      "to\n",
      "increase\n",
      "the\n",
      "unit\n",
      "specialist\n",
      "staff\n",
      "to\n",
      "several\n",
      "dozen\n",
      "it\n",
      "is\n",
      "going\n",
      "to\n",
      "depend\n",
      "on\n",
      "the\n",
      "market\n",
      "situation\n",
      "during\n",
      "we\n",
      "are\n",
      "happy\n",
      "for\n",
      "that\n",
      "check\n",
      "for\n",
      "more\n",
      "!\n"
     ]
    }
   ],
   "source": [
    "for token in doc:\n",
    "    print(token.text)"
   ]
  },
  {
   "cell_type": "markdown",
   "metadata": {},
   "source": [
    "# Language detection function"
   ]
  },
  {
   "cell_type": "code",
   "execution_count": 16,
   "metadata": {},
   "outputs": [],
   "source": [
    "def check_language(text):\n",
    "    \"\"\"\n",
    "    Check the language of the given text.\n",
    "\n",
    "    :param text: Text to check the language.\n",
    "    :return: Language of the text.\n",
    "    \"\"\"\n",
    "    return text._.language[\"language\"]"
   ]
  },
  {
   "cell_type": "code",
   "execution_count": 17,
   "metadata": {},
   "outputs": [
    {
     "data": {
      "text/plain": [
       "'en'"
      ]
     },
     "execution_count": 17,
     "metadata": {},
     "output_type": "execute_result"
    }
   ],
   "source": [
    "check_language(doc)"
   ]
  },
  {
   "cell_type": "markdown",
   "metadata": {},
   "source": [
    "# Stop words"
   ]
  },
  {
   "cell_type": "code",
   "execution_count": 18,
   "metadata": {},
   "outputs": [],
   "source": [
    "stop_words = [\n",
    "    \"a\",\n",
    "    \"an\",\n",
    "    \"and\",\n",
    "    \"but\",\n",
    "    \"how\",\n",
    "    \"in\",\n",
    "    \"on\",\n",
    "    \"or\",\n",
    "    \"the\",\n",
    "    \"what\",\n",
    "    \"will\",\n",
    "]\n",
    "\n",
    "\n",
    "def remove_stop_words(tokenized_words, stop_words: list) -> list:\n",
    "    \"\"\"\n",
    "    Removes the stop-words from the list of tokenized words.\n",
    "\n",
    "    :param tokenized_words: Array of words after tokenization\n",
    "    :return: Array of words after stop-words removing\n",
    "    \"\"\"\n",
    "    words_removed_stop_words = [\n",
    "        word for word in tokenized_words if word.text not in stop_words\n",
    "    ]\n",
    "\n",
    "    return words_removed_stop_words"
   ]
  },
  {
   "cell_type": "code",
   "execution_count": 19,
   "metadata": {},
   "outputs": [
    {
     "data": {
      "text/plain": [
       "[company,\n",
       " plans,\n",
       " to,\n",
       " increase,\n",
       " unit,\n",
       " specialist,\n",
       " staff,\n",
       " to,\n",
       " several,\n",
       " dozen,\n",
       " it,\n",
       " is,\n",
       " going,\n",
       " to,\n",
       " depend,\n",
       " market,\n",
       " situation,\n",
       " during,\n",
       " we,\n",
       " are,\n",
       " happy,\n",
       " for,\n",
       " that,\n",
       " check,\n",
       " for,\n",
       " more,\n",
       " !]"
      ]
     },
     "execution_count": 19,
     "metadata": {},
     "output_type": "execute_result"
    }
   ],
   "source": [
    "example_sentence = remove_stop_words(doc, stop_words)\n",
    "example_sentence"
   ]
  },
  {
   "cell_type": "markdown",
   "metadata": {},
   "source": [
    "# Lemmatization"
   ]
  },
  {
   "cell_type": "code",
   "execution_count": 20,
   "metadata": {},
   "outputs": [],
   "source": [
    "def lemmatize_words(tokenized_words):\n",
    "    \"\"\"\n",
    "    Lemmatizes words from the list of tokenized words.\n",
    "\n",
    "    :param tokenized_words: List of words after tokenization\n",
    "    :return: List of words after lemmatization\n",
    "    \"\"\"\n",
    "\n",
    "    lemmatized_words = [token.lemma_ for token in tokenized_words]\n",
    "\n",
    "    return lemmatized_words"
   ]
  },
  {
   "cell_type": "code",
   "execution_count": 21,
   "metadata": {},
   "outputs": [
    {
     "data": {
      "text/plain": [
       "['company',\n",
       " 'plan',\n",
       " 'to',\n",
       " 'increase',\n",
       " 'unit',\n",
       " 'specialist',\n",
       " 'staff',\n",
       " 'to',\n",
       " 'several',\n",
       " 'dozen',\n",
       " 'it',\n",
       " 'be',\n",
       " 'go',\n",
       " 'to',\n",
       " 'depend',\n",
       " 'market',\n",
       " 'situation',\n",
       " 'during',\n",
       " 'we',\n",
       " 'be',\n",
       " 'happy',\n",
       " 'for',\n",
       " 'that',\n",
       " 'check',\n",
       " 'for',\n",
       " 'more',\n",
       " '!']"
      ]
     },
     "execution_count": 21,
     "metadata": {},
     "output_type": "execute_result"
    }
   ],
   "source": [
    "lemmatize_words(example_sentence)"
   ]
  },
  {
   "cell_type": "markdown",
   "metadata": {},
   "source": [
    "# Whole preprocessing "
   ]
  },
  {
   "cell_type": "code",
   "execution_count": 22,
   "metadata": {},
   "outputs": [],
   "source": [
    "# clean_text function but without internal print functions\n",
    "\n",
    "\n",
    "def clean_text(text: str) -> str:\n",
    "    \"\"\"\n",
    "    Cleans input text by lowercasing and removing punctuation.\n",
    "\n",
    "    :param text: An input string to be cleaned\n",
    "    :return: Cleaned string\n",
    "    \"\"\"\n",
    "    text = text.lower()\n",
    "    text = re.compile(r\"https?://\\S+|www\\.\\S+\").sub(\"\", text)\n",
    "\n",
    "    desired_elements = r\"[^a-z\\?\\!\\'\\ ]\"\n",
    "    text = re.sub(desired_elements, \"\", text)\n",
    "\n",
    "    text = \" \".join([contractions.fix(word) for word in text.split()])\n",
    "\n",
    "    replacements = {\n",
    "        r\"'s\\b\": \"\",\n",
    "        r\"\\s+\": \" \",\n",
    "    }\n",
    "    for replace, by in replacements.items():\n",
    "        text = re.sub(replace, by, text)\n",
    "\n",
    "    return text.strip()"
   ]
  },
  {
   "cell_type": "code",
   "execution_count": 23,
   "metadata": {},
   "outputs": [],
   "source": [
    "def text_preprocessing_on_sentence(sentence: str, stop_words: list, nlp):\n",
    "    \"\"\"\n",
    "    Performs the whole preprocessing procedure on the given sentence.\n",
    "\n",
    "    :param sentence: Sentence we want to preprocess.\n",
    "    :param stop_words: List with stop-words we want to remove from the sentence.\n",
    "    :param nlp: SpaCy model.\n",
    "\n",
    "    :return str: Sentence after preprocessing.\n",
    "    \"\"\"\n",
    "    preprocessed_sentence = clean_text(sentence)\n",
    "    preprocessed_sentence = tokenize_text(preprocessed_sentence, nlp)\n",
    "    preprocessed_sentence = remove_stop_words(preprocessed_sentence, stop_words)\n",
    "    preprocessed_sentence = lemmatize_words(preprocessed_sentence)\n",
    "    preprocessed_sentence = \" \".join(preprocessed_sentence)\n",
    "\n",
    "    return preprocessed_sentence"
   ]
  },
  {
   "cell_type": "code",
   "execution_count": 24,
   "metadata": {},
   "outputs": [
    {
     "data": {
      "text/plain": [
       "'company plan to increase unit specialist staff to several dozen it be go to depend market situation during we be happy for that check for more !'"
      ]
     },
     "execution_count": 24,
     "metadata": {},
     "output_type": "execute_result"
    }
   ],
   "source": [
    "text_preprocessing_on_sentence(initial_sentence, stop_words, nlp)"
   ]
  },
  {
   "cell_type": "code",
   "execution_count": 27,
   "metadata": {},
   "outputs": [],
   "source": [
    "def text_preprocessing_on_dataframe(\n",
    "    dataframe: pd.DataFrame, stop_words: list, nlp, save_to_csv=True\n",
    "):\n",
    "    \"\"\"\n",
    "    Perform the whole preprocessing procedure on the Pandas DataFrame\n",
    "    with columns \"Sentence\" and \"Sentiment\".\n",
    "\n",
    "    :param dataframe: Pandas Dataframe containing \"Sentence\" and \"Sentiment\" columns.\n",
    "    :param stop_words: List with stop-words we want to remove from sentences.\n",
    "    :param nlp: SpaCy model.\n",
    "    :param save_to_parquet: when not None, saves the dataframe in a .parquet file\n",
    "                            with given name.\n",
    "\n",
    "    :return: Pandas Dataframe with \"PreprocessedSentence\" column added.\n",
    "    \"\"\"\n",
    "\n",
    "    dataframe[\"PreprocessedSentence\"] = dataframe[\"Sentence\"].apply(\n",
    "        lambda text: clean_text(text)\n",
    "    )\n",
    "    dataframe[\"PreprocessedSentence\"] = dataframe[\"PreprocessedSentence\"].apply(\n",
    "        lambda text: tokenize_text(text, nlp)\n",
    "    )\n",
    "\n",
    "    dataframe[\"Language\"] = dataframe[\"PreprocessedSentence\"].apply(\n",
    "        lambda text: check_language(text)\n",
    "    )\n",
    "\n",
    "    dataframe[\"PreprocessedSentence\"] = dataframe[\"PreprocessedSentence\"].apply(\n",
    "        lambda text: remove_stop_words(text, stop_words)\n",
    "    )\n",
    "    dataframe[\"PreprocessedSentence\"] = dataframe[\"PreprocessedSentence\"].apply(\n",
    "        lambda text: lemmatize_words(text)\n",
    "    )\n",
    "    dataframe[\"PreprocessedSentence\"] = dataframe[\"PreprocessedSentence\"].apply(\n",
    "        lambda text: \" \".join(text)\n",
    "    )\n",
    "\n",
    "    dataframe = dataframe[dataframe[\"Language\"] == \"en\"]\n",
    "\n",
    "    dataframe = dataframe[[\"Sentence\", \"PreprocessedSentence\", \"Sentiment\"]]\n",
    "\n",
    "    if save_to_csv is not None:\n",
    "        dataframe.to_csv(f\"data/{save_to_csv}\")\n",
    "\n",
    "    return dataframe"
   ]
  },
  {
   "cell_type": "code",
   "execution_count": 28,
   "metadata": {},
   "outputs": [
    {
     "data": {
      "text/html": [
       "<div>\n",
       "<style scoped>\n",
       "    .dataframe tbody tr th:only-of-type {\n",
       "        vertical-align: middle;\n",
       "    }\n",
       "\n",
       "    .dataframe tbody tr th {\n",
       "        vertical-align: top;\n",
       "    }\n",
       "\n",
       "    .dataframe thead th {\n",
       "        text-align: right;\n",
       "    }\n",
       "</style>\n",
       "<table border=\"1\" class=\"dataframe\">\n",
       "  <thead>\n",
       "    <tr style=\"text-align: right;\">\n",
       "      <th></th>\n",
       "      <th>Sentence</th>\n",
       "      <th>PreprocessedSentence</th>\n",
       "      <th>Sentiment</th>\n",
       "    </tr>\n",
       "  </thead>\n",
       "  <tbody>\n",
       "    <tr>\n",
       "      <th>0</th>\n",
       "      <td>The GeoSolutions technology will leverage Benefon 's GPS solutions by providing Location Based Search Technology , a Communities Platform , location relevant multimedia content and a new and powerful commercial model .</td>\n",
       "      <td>geosolution technology leverage benefon gps solution by provide location base search technology community platform location relevant multimedia content new powerful commercial model</td>\n",
       "      <td>positive</td>\n",
       "    </tr>\n",
       "    <tr>\n",
       "      <th>1</th>\n",
       "      <td>$ESI on lows, down $1.50 to $2.50 BK a real possibility</td>\n",
       "      <td>esi low down to bk real possibility</td>\n",
       "      <td>negative</td>\n",
       "    </tr>\n",
       "    <tr>\n",
       "      <th>2</th>\n",
       "      <td>For the last quarter of 2010 , Componenta 's net sales doubled to EUR131m from EUR76m for the same period a year earlier , while it moved to a zero pre-tax profit from a pre-tax loss of EUR7m .</td>\n",
       "      <td>for last quarter of componenta net sale double to eurm from eurm for same period year early while it move to zero pretax profit from pretax loss of eurm</td>\n",
       "      <td>positive</td>\n",
       "    </tr>\n",
       "    <tr>\n",
       "      <th>3</th>\n",
       "      <td>According to the Finnish-Russian Chamber of Commerce , all the major construction companies of Finland are operating in Russia .</td>\n",
       "      <td>accord to finnishrussian chamber of commerce all major construction company of finland be operate russia</td>\n",
       "      <td>neutral</td>\n",
       "    </tr>\n",
       "    <tr>\n",
       "      <th>4</th>\n",
       "      <td>The Swedish buyout firm has sold its remaining 22.4 percent stake , almost eighteen months after taking the company public in Finland .</td>\n",
       "      <td>swedish buyout firm have sell its remain percent stake almost eighteen month after take company public finland</td>\n",
       "      <td>neutral</td>\n",
       "    </tr>\n",
       "  </tbody>\n",
       "</table>\n",
       "</div>"
      ],
      "text/plain": [
       "                                                                                                                                                                                                                     Sentence  \\\n",
       "0  The GeoSolutions technology will leverage Benefon 's GPS solutions by providing Location Based Search Technology , a Communities Platform , location relevant multimedia content and a new and powerful commercial model .   \n",
       "1                                                                                                                                                                     $ESI on lows, down $1.50 to $2.50 BK a real possibility   \n",
       "2                           For the last quarter of 2010 , Componenta 's net sales doubled to EUR131m from EUR76m for the same period a year earlier , while it moved to a zero pre-tax profit from a pre-tax loss of EUR7m .   \n",
       "3                                                                                            According to the Finnish-Russian Chamber of Commerce , all the major construction companies of Finland are operating in Russia .   \n",
       "4                                                                                     The Swedish buyout firm has sold its remaining 22.4 percent stake , almost eighteen months after taking the company public in Finland .   \n",
       "\n",
       "                                                                                                                                                                    PreprocessedSentence  \\\n",
       "0  geosolution technology leverage benefon gps solution by provide location base search technology community platform location relevant multimedia content new powerful commercial model   \n",
       "1                                                                                                                                                    esi low down to bk real possibility   \n",
       "2                               for last quarter of componenta net sale double to eurm from eurm for same period year early while it move to zero pretax profit from pretax loss of eurm   \n",
       "3                                                                               accord to finnishrussian chamber of commerce all major construction company of finland be operate russia   \n",
       "4                                                                         swedish buyout firm have sell its remain percent stake almost eighteen month after take company public finland   \n",
       "\n",
       "  Sentiment  \n",
       "0  positive  \n",
       "1  negative  \n",
       "2  positive  \n",
       "3   neutral  \n",
       "4   neutral  "
      ]
     },
     "execution_count": 28,
     "metadata": {},
     "output_type": "execute_result"
    }
   ],
   "source": [
    "preprocessed_data = text_preprocessing_on_dataframe(\n",
    "    data, stop_words, nlp, save_to_csv=\"FinancialNewsPreprocessed.csv\"\n",
    ")\n",
    "preprocessed_data.head(5)"
   ]
  },
  {
   "cell_type": "code",
   "execution_count": null,
   "metadata": {},
   "outputs": [],
   "source": []
  }
 ],
 "metadata": {
  "kernelspec": {
   "display_name": "Python 3.9.0 64-bit ('core': conda)",
   "metadata": {
    "interpreter": {
     "hash": "0b33654c2546ca539a568735142e899062f39b744a565c71063b78900775ee9c"
    }
   },
   "name": "python3"
  },
  "language_info": {
   "codemirror_mode": {
    "name": "ipython",
    "version": 3
   },
   "file_extension": ".py",
   "mimetype": "text/x-python",
   "name": "python",
   "nbconvert_exporter": "python",
   "pygments_lexer": "ipython3",
   "version": "3.9.0"
  },
  "orig_nbformat": 2
 },
 "nbformat": 4,
 "nbformat_minor": 2
}
